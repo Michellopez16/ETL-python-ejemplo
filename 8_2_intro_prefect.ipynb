{
 "cells": [
  {
   "cell_type": "code",
   "execution_count": 1,
   "metadata": {},
   "outputs": [],
   "source": [
    "from prefect import flow, task,get_run_logger"
   ]
  },
  {
   "cell_type": "code",
   "execution_count": 4,
   "metadata": {},
   "outputs": [
    {
     "name": "stderr",
     "output_type": "stream",
     "text": [
      "c:\\Users\\Mich2020\\Anaconda3\\envs\\ETLSpoty\\Lib\\site-packages\\prefect\\tasks.py:339: UserWarning: A task named 'print_hello' and defined at 'C:\\Users\\Mich2020\\AppData\\Local\\Temp\\ipykernel_43284\\574829324.py:1' conflicts with another task. Consider specifying a unique `name` parameter in the task definition:\n",
      "\n",
      " `@task(name='my_unique_name', ...)`\n",
      "  warnings.warn(\n",
      "c:\\Users\\Mich2020\\Anaconda3\\envs\\ETLSpoty\\Lib\\site-packages\\prefect\\flows.py:343: UserWarning: A flow named 'Hello Flow' and defined at 'C:\\Users\\Mich2020\\AppData\\Local\\Temp\\ipykernel_43284\\574829324.py:5' conflicts with another flow. Consider specifying a unique `name` parameter in the flow definition:\n",
      "\n",
      " `@flow(name='my_unique_name', ...)`\n",
      "  warnings.warn(\n"
     ]
    },
    {
     "data": {
      "text/html": [
       "<pre style=\"white-space:pre;overflow-x:auto;line-height:normal;font-family:Menlo,'DejaVu Sans Mono',consolas,'Courier New',monospace\">00:43:07.054 | <span style=\"color: #008080; text-decoration-color: #008080\">INFO</span>    | prefect.engine - Created flow run<span style=\"color: #800080; text-decoration-color: #800080\"> 'mature-chinchilla'</span> for flow<span style=\"color: #800080; text-decoration-color: #800080; font-weight: bold\"> 'Hello Flow'</span>\n",
       "</pre>\n"
      ],
      "text/plain": [
       "00:43:07.054 | \u001b[36mINFO\u001b[0m    | prefect.engine - Created flow run\u001b[35m 'mature-chinchilla'\u001b[0m for flow\u001b[1;35m 'Hello Flow'\u001b[0m\n"
      ]
     },
     "metadata": {},
     "output_type": "display_data"
    },
    {
     "data": {
      "text/html": [
       "<pre style=\"white-space:pre;overflow-x:auto;line-height:normal;font-family:Menlo,'DejaVu Sans Mono',consolas,'Courier New',monospace\">00:43:07.057 | <span style=\"color: #008080; text-decoration-color: #008080\">INFO</span>    | Flow run<span style=\"color: #800080; text-decoration-color: #800080\"> 'mature-chinchilla'</span> - View at <span style=\"color: #0000ff; text-decoration-color: #0000ff\">https://app.prefect.cloud/account/12f914c1-6641-4886-b1fc-1a3d16bfdeed/workspace/4cc5a521-4d87-4d10-b1f2-383e1c72fb5c/flow-runs/flow-run/f8e6d0bc-ccd5-4501-8a59-969072278370</span>\n",
       "</pre>\n"
      ],
      "text/plain": [
       "00:43:07.057 | \u001b[36mINFO\u001b[0m    | Flow run\u001b[35m 'mature-chinchilla'\u001b[0m - View at \u001b[94mhttps://app.prefect.cloud/account/12f914c1-6641-4886-b1fc-1a3d16bfdeed/workspace/4cc5a521-4d87-4d10-b1f2-383e1c72fb5c/flow-runs/flow-run/f8e6d0bc-ccd5-4501-8a59-969072278370\u001b[0m\n"
      ]
     },
     "metadata": {},
     "output_type": "display_data"
    },
    {
     "data": {
      "text/html": [
       "<pre style=\"white-space:pre;overflow-x:auto;line-height:normal;font-family:Menlo,'DejaVu Sans Mono',consolas,'Courier New',monospace\">00:43:07.422 | <span style=\"color: #008080; text-decoration-color: #008080\">INFO</span>    | Flow run<span style=\"color: #800080; text-decoration-color: #800080\"> 'mature-chinchilla'</span> - Created task run 'print_hello-0' for task 'print_hello'\n",
       "</pre>\n"
      ],
      "text/plain": [
       "00:43:07.422 | \u001b[36mINFO\u001b[0m    | Flow run\u001b[35m 'mature-chinchilla'\u001b[0m - Created task run 'print_hello-0' for task 'print_hello'\n"
      ]
     },
     "metadata": {},
     "output_type": "display_data"
    },
    {
     "data": {
      "text/html": [
       "<pre style=\"white-space:pre;overflow-x:auto;line-height:normal;font-family:Menlo,'DejaVu Sans Mono',consolas,'Courier New',monospace\">00:43:07.424 | <span style=\"color: #008080; text-decoration-color: #008080\">INFO</span>    | Flow run<span style=\"color: #800080; text-decoration-color: #800080\"> 'mature-chinchilla'</span> - Executing 'print_hello-0' immediately...\n",
       "</pre>\n"
      ],
      "text/plain": [
       "00:43:07.424 | \u001b[36mINFO\u001b[0m    | Flow run\u001b[35m 'mature-chinchilla'\u001b[0m - Executing 'print_hello-0' immediately...\n"
      ]
     },
     "metadata": {},
     "output_type": "display_data"
    },
    {
     "name": "stdout",
     "output_type": "stream",
     "text": [
      "Hello world!\n"
     ]
    },
    {
     "data": {
      "text/html": [
       "<pre style=\"white-space:pre;overflow-x:auto;line-height:normal;font-family:Menlo,'DejaVu Sans Mono',consolas,'Courier New',monospace\">00:43:09.033 | <span style=\"color: #008080; text-decoration-color: #008080\">INFO</span>    | Task run 'print_hello-0' - Finished in state <span style=\"color: #008000; text-decoration-color: #008000\">Completed</span>()\n",
       "</pre>\n"
      ],
      "text/plain": [
       "00:43:09.033 | \u001b[36mINFO\u001b[0m    | Task run 'print_hello-0' - Finished in state \u001b[32mCompleted\u001b[0m()\n"
      ]
     },
     "metadata": {},
     "output_type": "display_data"
    },
    {
     "data": {
      "text/html": [
       "<pre style=\"white-space:pre;overflow-x:auto;line-height:normal;font-family:Menlo,'DejaVu Sans Mono',consolas,'Courier New',monospace\">00:43:09.596 | <span style=\"color: #008080; text-decoration-color: #008080\">INFO</span>    | Flow run<span style=\"color: #800080; text-decoration-color: #800080\"> 'mature-chinchilla'</span> - Finished in state <span style=\"color: #008000; text-decoration-color: #008000\">Completed</span>('All states completed.')\n",
       "</pre>\n"
      ],
      "text/plain": [
       "00:43:09.596 | \u001b[36mINFO\u001b[0m    | Flow run\u001b[35m 'mature-chinchilla'\u001b[0m - Finished in state \u001b[32mCompleted\u001b[0m('All states completed.')\n"
      ]
     },
     "metadata": {},
     "output_type": "display_data"
    },
    {
     "data": {
      "text/html": [
       "<pre style=\"white-space:pre;overflow-x:auto;line-height:normal;font-family:Menlo,'DejaVu Sans Mono',consolas,'Courier New',monospace\">00:43:12.339 | <span style=\"color: #008080; text-decoration-color: #008080\">INFO</span>    | prefect.engine - Created flow run<span style=\"color: #800080; text-decoration-color: #800080\"> 'spectacular-raccoon'</span> for flow<span style=\"color: #800080; text-decoration-color: #800080; font-weight: bold\"> 'Hello Flow'</span>\n",
       "</pre>\n"
      ],
      "text/plain": [
       "00:43:12.339 | \u001b[36mINFO\u001b[0m    | prefect.engine - Created flow run\u001b[35m 'spectacular-raccoon'\u001b[0m for flow\u001b[1;35m 'Hello Flow'\u001b[0m\n"
      ]
     },
     "metadata": {},
     "output_type": "display_data"
    },
    {
     "data": {
      "text/html": [
       "<pre style=\"white-space:pre;overflow-x:auto;line-height:normal;font-family:Menlo,'DejaVu Sans Mono',consolas,'Courier New',monospace\">00:43:12.342 | <span style=\"color: #008080; text-decoration-color: #008080\">INFO</span>    | Flow run<span style=\"color: #800080; text-decoration-color: #800080\"> 'spectacular-raccoon'</span> - View at <span style=\"color: #0000ff; text-decoration-color: #0000ff\">https://app.prefect.cloud/account/12f914c1-6641-4886-b1fc-1a3d16bfdeed/workspace/4cc5a521-4d87-4d10-b1f2-383e1c72fb5c/flow-runs/flow-run/9296585e-3f38-4219-822e-5146629ca48c</span>\n",
       "</pre>\n"
      ],
      "text/plain": [
       "00:43:12.342 | \u001b[36mINFO\u001b[0m    | Flow run\u001b[35m 'spectacular-raccoon'\u001b[0m - View at \u001b[94mhttps://app.prefect.cloud/account/12f914c1-6641-4886-b1fc-1a3d16bfdeed/workspace/4cc5a521-4d87-4d10-b1f2-383e1c72fb5c/flow-runs/flow-run/9296585e-3f38-4219-822e-5146629ca48c\u001b[0m\n"
      ]
     },
     "metadata": {},
     "output_type": "display_data"
    },
    {
     "data": {
      "text/html": [
       "<pre style=\"white-space:pre;overflow-x:auto;line-height:normal;font-family:Menlo,'DejaVu Sans Mono',consolas,'Courier New',monospace\">00:43:12.698 | <span style=\"color: #008080; text-decoration-color: #008080\">INFO</span>    | Flow run<span style=\"color: #800080; text-decoration-color: #800080\"> 'spectacular-raccoon'</span> - Created task run 'print_hello-0' for task 'print_hello'\n",
       "</pre>\n"
      ],
      "text/plain": [
       "00:43:12.698 | \u001b[36mINFO\u001b[0m    | Flow run\u001b[35m 'spectacular-raccoon'\u001b[0m - Created task run 'print_hello-0' for task 'print_hello'\n"
      ]
     },
     "metadata": {},
     "output_type": "display_data"
    },
    {
     "data": {
      "text/html": [
       "<pre style=\"white-space:pre;overflow-x:auto;line-height:normal;font-family:Menlo,'DejaVu Sans Mono',consolas,'Courier New',monospace\">00:43:12.700 | <span style=\"color: #008080; text-decoration-color: #008080\">INFO</span>    | Flow run<span style=\"color: #800080; text-decoration-color: #800080\"> 'spectacular-raccoon'</span> - Executing 'print_hello-0' immediately...\n",
       "</pre>\n"
      ],
      "text/plain": [
       "00:43:12.700 | \u001b[36mINFO\u001b[0m    | Flow run\u001b[35m 'spectacular-raccoon'\u001b[0m - Executing 'print_hello-0' immediately...\n"
      ]
     },
     "metadata": {},
     "output_type": "display_data"
    },
    {
     "name": "stdout",
     "output_type": "stream",
     "text": [
      "Hello Mundo!\n"
     ]
    },
    {
     "data": {
      "text/html": [
       "<pre style=\"white-space:pre;overflow-x:auto;line-height:normal;font-family:Menlo,'DejaVu Sans Mono',consolas,'Courier New',monospace\">00:43:14.299 | <span style=\"color: #008080; text-decoration-color: #008080\">INFO</span>    | Task run 'print_hello-0' - Finished in state <span style=\"color: #008000; text-decoration-color: #008000\">Completed</span>()\n",
       "</pre>\n"
      ],
      "text/plain": [
       "00:43:14.299 | \u001b[36mINFO\u001b[0m    | Task run 'print_hello-0' - Finished in state \u001b[32mCompleted\u001b[0m()\n"
      ]
     },
     "metadata": {},
     "output_type": "display_data"
    },
    {
     "data": {
      "text/html": [
       "<pre style=\"white-space:pre;overflow-x:auto;line-height:normal;font-family:Menlo,'DejaVu Sans Mono',consolas,'Courier New',monospace\">00:43:14.838 | <span style=\"color: #008080; text-decoration-color: #008080\">INFO</span>    | Flow run<span style=\"color: #800080; text-decoration-color: #800080\"> 'spectacular-raccoon'</span> - Finished in state <span style=\"color: #008000; text-decoration-color: #008000\">Completed</span>('All states completed.')\n",
       "</pre>\n"
      ],
      "text/plain": [
       "00:43:14.838 | \u001b[36mINFO\u001b[0m    | Flow run\u001b[35m 'spectacular-raccoon'\u001b[0m - Finished in state \u001b[32mCompleted\u001b[0m('All states completed.')\n"
      ]
     },
     "metadata": {},
     "output_type": "display_data"
    },
    {
     "data": {
      "text/plain": [
       "[Completed(message=None, type=COMPLETED, result=UnpersistedResult(type='unpersisted', artifact_type='result', artifact_description='Unpersisted result of type `NoneType`'))]"
      ]
     },
     "execution_count": 4,
     "metadata": {},
     "output_type": "execute_result"
    }
   ],
   "source": [
    "\n",
    "\n",
    "@task\n",
    "def print_hello(name):\n",
    "    print(f\"Hello {name}!\")\n",
    "\n",
    "@flow(name=\"Hello Flow\")\n",
    "def hello_world(name=\"world\"):\n",
    "    print_hello(name)\n",
    "\n",
    "\n",
    "hello_world()\n",
    "hello_world(\"Mundo\")"
   ]
  },
  {
   "cell_type": "code",
   "execution_count": 5,
   "metadata": {},
   "outputs": [
    {
     "name": "stderr",
     "output_type": "stream",
     "text": [
      "c:\\Users\\Mich2020\\Anaconda3\\envs\\ETLSpoty\\Lib\\site-packages\\prefect\\tasks.py:339: UserWarning: A task named 'print_hello' and defined at 'C:\\Users\\Mich2020\\AppData\\Local\\Temp\\ipykernel_43284\\4114007729.py:1' conflicts with another task. Consider specifying a unique `name` parameter in the task definition:\n",
      "\n",
      " `@task(name='my_unique_name', ...)`\n",
      "  warnings.warn(\n",
      "c:\\Users\\Mich2020\\Anaconda3\\envs\\ETLSpoty\\Lib\\site-packages\\prefect\\flows.py:343: UserWarning: A flow named 'Hello Flow' and defined at 'C:\\Users\\Mich2020\\AppData\\Local\\Temp\\ipykernel_43284\\4114007729.py:5' conflicts with another flow. Consider specifying a unique `name` parameter in the flow definition:\n",
      "\n",
      " `@flow(name='my_unique_name', ...)`\n",
      "  warnings.warn(\n"
     ]
    },
    {
     "data": {
      "text/html": [
       "<pre style=\"white-space:pre;overflow-x:auto;line-height:normal;font-family:Menlo,'DejaVu Sans Mono',consolas,'Courier New',monospace\">00:44:14.713 | <span style=\"color: #008080; text-decoration-color: #008080\">INFO</span>    | prefect.engine - Created flow run<span style=\"color: #800080; text-decoration-color: #800080\"> 'eccentric-porpoise'</span> for flow<span style=\"color: #800080; text-decoration-color: #800080; font-weight: bold\"> 'Hello Flow'</span>\n",
       "</pre>\n"
      ],
      "text/plain": [
       "00:44:14.713 | \u001b[36mINFO\u001b[0m    | prefect.engine - Created flow run\u001b[35m 'eccentric-porpoise'\u001b[0m for flow\u001b[1;35m 'Hello Flow'\u001b[0m\n"
      ]
     },
     "metadata": {},
     "output_type": "display_data"
    },
    {
     "data": {
      "text/html": [
       "<pre style=\"white-space:pre;overflow-x:auto;line-height:normal;font-family:Menlo,'DejaVu Sans Mono',consolas,'Courier New',monospace\">00:44:14.716 | <span style=\"color: #008080; text-decoration-color: #008080\">INFO</span>    | Flow run<span style=\"color: #800080; text-decoration-color: #800080\"> 'eccentric-porpoise'</span> - View at <span style=\"color: #0000ff; text-decoration-color: #0000ff\">https://app.prefect.cloud/account/12f914c1-6641-4886-b1fc-1a3d16bfdeed/workspace/4cc5a521-4d87-4d10-b1f2-383e1c72fb5c/flow-runs/flow-run/9cd597cc-a32b-49ea-b6d5-62b0a7c129a0</span>\n",
       "</pre>\n"
      ],
      "text/plain": [
       "00:44:14.716 | \u001b[36mINFO\u001b[0m    | Flow run\u001b[35m 'eccentric-porpoise'\u001b[0m - View at \u001b[94mhttps://app.prefect.cloud/account/12f914c1-6641-4886-b1fc-1a3d16bfdeed/workspace/4cc5a521-4d87-4d10-b1f2-383e1c72fb5c/flow-runs/flow-run/9cd597cc-a32b-49ea-b6d5-62b0a7c129a0\u001b[0m\n"
      ]
     },
     "metadata": {},
     "output_type": "display_data"
    },
    {
     "data": {
      "text/html": [
       "<pre style=\"white-space:pre;overflow-x:auto;line-height:normal;font-family:Menlo,'DejaVu Sans Mono',consolas,'Courier New',monospace\">00:44:14.954 | <span style=\"color: #008080; text-decoration-color: #008080\">INFO</span>    | Flow run<span style=\"color: #800080; text-decoration-color: #800080\"> 'eccentric-porpoise'</span> - Iniciando el flujo con la palabra clave log_prints=True\n",
       "</pre>\n"
      ],
      "text/plain": [
       "00:44:14.954 | \u001b[36mINFO\u001b[0m    | Flow run\u001b[35m 'eccentric-porpoise'\u001b[0m - Iniciando el flujo con la palabra clave log_prints=True\n"
      ]
     },
     "metadata": {},
     "output_type": "display_data"
    },
    {
     "data": {
      "text/html": [
       "<pre style=\"white-space:pre;overflow-x:auto;line-height:normal;font-family:Menlo,'DejaVu Sans Mono',consolas,'Courier New',monospace\">00:44:15.422 | <span style=\"color: #008080; text-decoration-color: #008080\">INFO</span>    | Flow run<span style=\"color: #800080; text-decoration-color: #800080\"> 'eccentric-porpoise'</span> - Created task run 'print_hello-0' for task 'print_hello'\n",
       "</pre>\n"
      ],
      "text/plain": [
       "00:44:15.422 | \u001b[36mINFO\u001b[0m    | Flow run\u001b[35m 'eccentric-porpoise'\u001b[0m - Created task run 'print_hello-0' for task 'print_hello'\n"
      ]
     },
     "metadata": {},
     "output_type": "display_data"
    },
    {
     "data": {
      "text/html": [
       "<pre style=\"white-space:pre;overflow-x:auto;line-height:normal;font-family:Menlo,'DejaVu Sans Mono',consolas,'Courier New',monospace\">00:44:15.424 | <span style=\"color: #008080; text-decoration-color: #008080\">INFO</span>    | Flow run<span style=\"color: #800080; text-decoration-color: #800080\"> 'eccentric-porpoise'</span> - Executing 'print_hello-0' immediately...\n",
       "</pre>\n"
      ],
      "text/plain": [
       "00:44:15.424 | \u001b[36mINFO\u001b[0m    | Flow run\u001b[35m 'eccentric-porpoise'\u001b[0m - Executing 'print_hello-0' immediately...\n"
      ]
     },
     "metadata": {},
     "output_type": "display_data"
    },
    {
     "name": "stdout",
     "output_type": "stream",
     "text": [
      "Hello world!\n"
     ]
    },
    {
     "data": {
      "text/html": [
       "<pre style=\"white-space:pre;overflow-x:auto;line-height:normal;font-family:Menlo,'DejaVu Sans Mono',consolas,'Courier New',monospace\">00:44:16.709 | <span style=\"color: #008080; text-decoration-color: #008080\">INFO</span>    | Task run 'print_hello-0' - Finished in state <span style=\"color: #008000; text-decoration-color: #008000\">Completed</span>()\n",
       "</pre>\n"
      ],
      "text/plain": [
       "00:44:16.709 | \u001b[36mINFO\u001b[0m    | Task run 'print_hello-0' - Finished in state \u001b[32mCompleted\u001b[0m()\n"
      ]
     },
     "metadata": {},
     "output_type": "display_data"
    },
    {
     "data": {
      "text/html": [
       "<pre style=\"white-space:pre;overflow-x:auto;line-height:normal;font-family:Menlo,'DejaVu Sans Mono',consolas,'Courier New',monospace\">00:44:16.714 | <span style=\"color: #008080; text-decoration-color: #008080\">INFO</span>    | Flow run<span style=\"color: #800080; text-decoration-color: #800080\"> 'eccentric-porpoise'</span> - Terminando el flujo\n",
       "</pre>\n"
      ],
      "text/plain": [
       "00:44:16.714 | \u001b[36mINFO\u001b[0m    | Flow run\u001b[35m 'eccentric-porpoise'\u001b[0m - Terminando el flujo\n"
      ]
     },
     "metadata": {},
     "output_type": "display_data"
    },
    {
     "data": {
      "text/html": [
       "<pre style=\"white-space:pre;overflow-x:auto;line-height:normal;font-family:Menlo,'DejaVu Sans Mono',consolas,'Courier New',monospace\">00:44:17.207 | <span style=\"color: #008080; text-decoration-color: #008080\">INFO</span>    | Flow run<span style=\"color: #800080; text-decoration-color: #800080\"> 'eccentric-porpoise'</span> - Finished in state <span style=\"color: #008000; text-decoration-color: #008000\">Completed</span>('All states completed.')\n",
       "</pre>\n"
      ],
      "text/plain": [
       "00:44:17.207 | \u001b[36mINFO\u001b[0m    | Flow run\u001b[35m 'eccentric-porpoise'\u001b[0m - Finished in state \u001b[32mCompleted\u001b[0m('All states completed.')\n"
      ]
     },
     "metadata": {},
     "output_type": "display_data"
    },
    {
     "data": {
      "text/html": [
       "<pre style=\"white-space:pre;overflow-x:auto;line-height:normal;font-family:Menlo,'DejaVu Sans Mono',consolas,'Courier New',monospace\">00:44:19.968 | <span style=\"color: #008080; text-decoration-color: #008080\">INFO</span>    | prefect.engine - Created flow run<span style=\"color: #800080; text-decoration-color: #800080\"> 'inventive-wombat'</span> for flow<span style=\"color: #800080; text-decoration-color: #800080; font-weight: bold\"> 'Hello Flow'</span>\n",
       "</pre>\n"
      ],
      "text/plain": [
       "00:44:19.968 | \u001b[36mINFO\u001b[0m    | prefect.engine - Created flow run\u001b[35m 'inventive-wombat'\u001b[0m for flow\u001b[1;35m 'Hello Flow'\u001b[0m\n"
      ]
     },
     "metadata": {},
     "output_type": "display_data"
    },
    {
     "data": {
      "text/html": [
       "<pre style=\"white-space:pre;overflow-x:auto;line-height:normal;font-family:Menlo,'DejaVu Sans Mono',consolas,'Courier New',monospace\">00:44:19.970 | <span style=\"color: #008080; text-decoration-color: #008080\">INFO</span>    | Flow run<span style=\"color: #800080; text-decoration-color: #800080\"> 'inventive-wombat'</span> - View at <span style=\"color: #0000ff; text-decoration-color: #0000ff\">https://app.prefect.cloud/account/12f914c1-6641-4886-b1fc-1a3d16bfdeed/workspace/4cc5a521-4d87-4d10-b1f2-383e1c72fb5c/flow-runs/flow-run/4e5ebe3e-235a-46d4-8fbd-47005c735a9e</span>\n",
       "</pre>\n"
      ],
      "text/plain": [
       "00:44:19.970 | \u001b[36mINFO\u001b[0m    | Flow run\u001b[35m 'inventive-wombat'\u001b[0m - View at \u001b[94mhttps://app.prefect.cloud/account/12f914c1-6641-4886-b1fc-1a3d16bfdeed/workspace/4cc5a521-4d87-4d10-b1f2-383e1c72fb5c/flow-runs/flow-run/4e5ebe3e-235a-46d4-8fbd-47005c735a9e\u001b[0m\n"
      ]
     },
     "metadata": {},
     "output_type": "display_data"
    },
    {
     "data": {
      "text/html": [
       "<pre style=\"white-space:pre;overflow-x:auto;line-height:normal;font-family:Menlo,'DejaVu Sans Mono',consolas,'Courier New',monospace\">00:44:20.235 | <span style=\"color: #008080; text-decoration-color: #008080\">INFO</span>    | Flow run<span style=\"color: #800080; text-decoration-color: #800080\"> 'inventive-wombat'</span> - Iniciando el flujo con la palabra clave log_prints=True\n",
       "</pre>\n"
      ],
      "text/plain": [
       "00:44:20.235 | \u001b[36mINFO\u001b[0m    | Flow run\u001b[35m 'inventive-wombat'\u001b[0m - Iniciando el flujo con la palabra clave log_prints=True\n"
      ]
     },
     "metadata": {},
     "output_type": "display_data"
    },
    {
     "data": {
      "text/html": [
       "<pre style=\"white-space:pre;overflow-x:auto;line-height:normal;font-family:Menlo,'DejaVu Sans Mono',consolas,'Courier New',monospace\">00:44:20.708 | <span style=\"color: #008080; text-decoration-color: #008080\">INFO</span>    | Flow run<span style=\"color: #800080; text-decoration-color: #800080\"> 'inventive-wombat'</span> - Created task run 'print_hello-0' for task 'print_hello'\n",
       "</pre>\n"
      ],
      "text/plain": [
       "00:44:20.708 | \u001b[36mINFO\u001b[0m    | Flow run\u001b[35m 'inventive-wombat'\u001b[0m - Created task run 'print_hello-0' for task 'print_hello'\n"
      ]
     },
     "metadata": {},
     "output_type": "display_data"
    },
    {
     "data": {
      "text/html": [
       "<pre style=\"white-space:pre;overflow-x:auto;line-height:normal;font-family:Menlo,'DejaVu Sans Mono',consolas,'Courier New',monospace\">00:44:20.710 | <span style=\"color: #008080; text-decoration-color: #008080\">INFO</span>    | Flow run<span style=\"color: #800080; text-decoration-color: #800080\"> 'inventive-wombat'</span> - Executing 'print_hello-0' immediately...\n",
       "</pre>\n"
      ],
      "text/plain": [
       "00:44:20.710 | \u001b[36mINFO\u001b[0m    | Flow run\u001b[35m 'inventive-wombat'\u001b[0m - Executing 'print_hello-0' immediately...\n"
      ]
     },
     "metadata": {},
     "output_type": "display_data"
    },
    {
     "name": "stdout",
     "output_type": "stream",
     "text": [
      "Hello Mundo!\n"
     ]
    },
    {
     "data": {
      "text/html": [
       "<pre style=\"white-space:pre;overflow-x:auto;line-height:normal;font-family:Menlo,'DejaVu Sans Mono',consolas,'Courier New',monospace\">00:44:21.969 | <span style=\"color: #008080; text-decoration-color: #008080\">INFO</span>    | Task run 'print_hello-0' - Finished in state <span style=\"color: #008000; text-decoration-color: #008000\">Completed</span>()\n",
       "</pre>\n"
      ],
      "text/plain": [
       "00:44:21.969 | \u001b[36mINFO\u001b[0m    | Task run 'print_hello-0' - Finished in state \u001b[32mCompleted\u001b[0m()\n"
      ]
     },
     "metadata": {},
     "output_type": "display_data"
    },
    {
     "data": {
      "text/html": [
       "<pre style=\"white-space:pre;overflow-x:auto;line-height:normal;font-family:Menlo,'DejaVu Sans Mono',consolas,'Courier New',monospace\">00:44:21.973 | <span style=\"color: #008080; text-decoration-color: #008080\">INFO</span>    | Flow run<span style=\"color: #800080; text-decoration-color: #800080\"> 'inventive-wombat'</span> - Terminando el flujo\n",
       "</pre>\n"
      ],
      "text/plain": [
       "00:44:21.973 | \u001b[36mINFO\u001b[0m    | Flow run\u001b[35m 'inventive-wombat'\u001b[0m - Terminando el flujo\n"
      ]
     },
     "metadata": {},
     "output_type": "display_data"
    },
    {
     "data": {
      "text/html": [
       "<pre style=\"white-space:pre;overflow-x:auto;line-height:normal;font-family:Menlo,'DejaVu Sans Mono',consolas,'Courier New',monospace\">00:44:22.496 | <span style=\"color: #008080; text-decoration-color: #008080\">INFO</span>    | Flow run<span style=\"color: #800080; text-decoration-color: #800080\"> 'inventive-wombat'</span> - Finished in state <span style=\"color: #008000; text-decoration-color: #008000\">Completed</span>('All states completed.')\n",
       "</pre>\n"
      ],
      "text/plain": [
       "00:44:22.496 | \u001b[36mINFO\u001b[0m    | Flow run\u001b[35m 'inventive-wombat'\u001b[0m - Finished in state \u001b[32mCompleted\u001b[0m('All states completed.')\n"
      ]
     },
     "metadata": {},
     "output_type": "display_data"
    },
    {
     "data": {
      "text/plain": [
       "[Completed(message=None, type=COMPLETED, result=UnpersistedResult(type='unpersisted', artifact_type='result', artifact_description='Unpersisted result of type `NoneType`'))]"
      ]
     },
     "execution_count": 5,
     "metadata": {},
     "output_type": "execute_result"
    }
   ],
   "source": [
    "@task\n",
    "def print_hello(name):\n",
    "    print(f\"Hello {name}!\")\n",
    "\n",
    "@flow(name=\"Hello Flow\")\n",
    "def hello_world(name=\"world\"):\n",
    "    logger = get_run_logger()\n",
    "    logger.info(\"Iniciando el flujo con la palabra clave log_prints=True\")\n",
    "    print_hello(name)\n",
    "    logger.info(\"Terminando el flujo\")\n",
    "    \n",
    "\n",
    "hello_world()\n",
    "hello_world(\"Mundo\")"
   ]
  },
  {
   "cell_type": "code",
   "execution_count": 6,
   "metadata": {},
   "outputs": [
    {
     "name": "stderr",
     "output_type": "stream",
     "text": [
      "c:\\Users\\Mich2020\\Anaconda3\\envs\\ETLSpoty\\Lib\\site-packages\\prefect\\tasks.py:339: UserWarning: A task named 'print_hello' and defined at 'C:\\Users\\Mich2020\\AppData\\Local\\Temp\\ipykernel_43284\\2650660471.py:1' conflicts with another task. Consider specifying a unique `name` parameter in the task definition:\n",
      "\n",
      " `@task(name='my_unique_name', ...)`\n",
      "  warnings.warn(\n",
      "c:\\Users\\Mich2020\\Anaconda3\\envs\\ETLSpoty\\Lib\\site-packages\\prefect\\flows.py:343: UserWarning: A flow named 'Hello Flow' and defined at 'C:\\Users\\Mich2020\\AppData\\Local\\Temp\\ipykernel_43284\\2650660471.py:5' conflicts with another flow. Consider specifying a unique `name` parameter in the flow definition:\n",
      "\n",
      " `@flow(name='my_unique_name', ...)`\n",
      "  warnings.warn(\n"
     ]
    },
    {
     "data": {
      "text/html": [
       "<pre style=\"white-space:pre;overflow-x:auto;line-height:normal;font-family:Menlo,'DejaVu Sans Mono',consolas,'Courier New',monospace\">00:45:31.975 | <span style=\"color: #008080; text-decoration-color: #008080\">INFO</span>    | prefect.engine - Created flow run<span style=\"color: #800080; text-decoration-color: #800080\"> 'benign-butterfly'</span> for flow<span style=\"color: #800080; text-decoration-color: #800080; font-weight: bold\"> 'Hello Flow'</span>\n",
       "</pre>\n"
      ],
      "text/plain": [
       "00:45:31.975 | \u001b[36mINFO\u001b[0m    | prefect.engine - Created flow run\u001b[35m 'benign-butterfly'\u001b[0m for flow\u001b[1;35m 'Hello Flow'\u001b[0m\n"
      ]
     },
     "metadata": {},
     "output_type": "display_data"
    },
    {
     "data": {
      "text/html": [
       "<pre style=\"white-space:pre;overflow-x:auto;line-height:normal;font-family:Menlo,'DejaVu Sans Mono',consolas,'Courier New',monospace\">00:45:31.978 | <span style=\"color: #008080; text-decoration-color: #008080\">INFO</span>    | Flow run<span style=\"color: #800080; text-decoration-color: #800080\"> 'benign-butterfly'</span> - View at <span style=\"color: #0000ff; text-decoration-color: #0000ff\">https://app.prefect.cloud/account/12f914c1-6641-4886-b1fc-1a3d16bfdeed/workspace/4cc5a521-4d87-4d10-b1f2-383e1c72fb5c/flow-runs/flow-run/ae930521-f0a8-40ef-ad97-6fbb699f7d36</span>\n",
       "</pre>\n"
      ],
      "text/plain": [
       "00:45:31.978 | \u001b[36mINFO\u001b[0m    | Flow run\u001b[35m 'benign-butterfly'\u001b[0m - View at \u001b[94mhttps://app.prefect.cloud/account/12f914c1-6641-4886-b1fc-1a3d16bfdeed/workspace/4cc5a521-4d87-4d10-b1f2-383e1c72fb5c/flow-runs/flow-run/ae930521-f0a8-40ef-ad97-6fbb699f7d36\u001b[0m\n"
      ]
     },
     "metadata": {},
     "output_type": "display_data"
    },
    {
     "data": {
      "text/html": [
       "<pre style=\"white-space:pre;overflow-x:auto;line-height:normal;font-family:Menlo,'DejaVu Sans Mono',consolas,'Courier New',monospace\">00:45:32.302 | <span style=\"color: #008080; text-decoration-color: #008080\">INFO</span>    | Flow run<span style=\"color: #800080; text-decoration-color: #800080\"> 'benign-butterfly'</span> - Iniciando el flujo con la palabra clave log_prints=True\n",
       "</pre>\n"
      ],
      "text/plain": [
       "00:45:32.302 | \u001b[36mINFO\u001b[0m    | Flow run\u001b[35m 'benign-butterfly'\u001b[0m - Iniciando el flujo con la palabra clave log_prints=True\n"
      ]
     },
     "metadata": {},
     "output_type": "display_data"
    },
    {
     "data": {
      "text/html": [
       "<pre style=\"white-space:pre;overflow-x:auto;line-height:normal;font-family:Menlo,'DejaVu Sans Mono',consolas,'Courier New',monospace\">00:45:32.903 | <span style=\"color: #008080; text-decoration-color: #008080\">INFO</span>    | Flow run<span style=\"color: #800080; text-decoration-color: #800080\"> 'benign-butterfly'</span> - Created task run 'print_hello-0' for task 'print_hello'\n",
       "</pre>\n"
      ],
      "text/plain": [
       "00:45:32.903 | \u001b[36mINFO\u001b[0m    | Flow run\u001b[35m 'benign-butterfly'\u001b[0m - Created task run 'print_hello-0' for task 'print_hello'\n"
      ]
     },
     "metadata": {},
     "output_type": "display_data"
    },
    {
     "data": {
      "text/html": [
       "<pre style=\"white-space:pre;overflow-x:auto;line-height:normal;font-family:Menlo,'DejaVu Sans Mono',consolas,'Courier New',monospace\">00:45:32.905 | <span style=\"color: #008080; text-decoration-color: #008080\">INFO</span>    | Flow run<span style=\"color: #800080; text-decoration-color: #800080\"> 'benign-butterfly'</span> - Executing 'print_hello-0' immediately...\n",
       "</pre>\n"
      ],
      "text/plain": [
       "00:45:32.905 | \u001b[36mINFO\u001b[0m    | Flow run\u001b[35m 'benign-butterfly'\u001b[0m - Executing 'print_hello-0' immediately...\n"
      ]
     },
     "metadata": {},
     "output_type": "display_data"
    },
    {
     "data": {
      "text/html": [
       "<pre style=\"white-space:pre;overflow-x:auto;line-height:normal;font-family:Menlo,'DejaVu Sans Mono',consolas,'Courier New',monospace\">00:45:33.419 | <span style=\"color: #008080; text-decoration-color: #008080\">INFO</span>    | Task run 'print_hello-0' - Hello world!\n",
       "</pre>\n"
      ],
      "text/plain": [
       "00:45:33.419 | \u001b[36mINFO\u001b[0m    | Task run 'print_hello-0' - Hello world!\n"
      ]
     },
     "metadata": {},
     "output_type": "display_data"
    },
    {
     "data": {
      "text/html": [
       "<pre style=\"white-space:pre;overflow-x:auto;line-height:normal;font-family:Menlo,'DejaVu Sans Mono',consolas,'Courier New',monospace\">00:45:34.184 | <span style=\"color: #008080; text-decoration-color: #008080\">INFO</span>    | Task run 'print_hello-0' - Finished in state <span style=\"color: #008000; text-decoration-color: #008000\">Completed</span>()\n",
       "</pre>\n"
      ],
      "text/plain": [
       "00:45:34.184 | \u001b[36mINFO\u001b[0m    | Task run 'print_hello-0' - Finished in state \u001b[32mCompleted\u001b[0m()\n"
      ]
     },
     "metadata": {},
     "output_type": "display_data"
    },
    {
     "data": {
      "text/html": [
       "<pre style=\"white-space:pre;overflow-x:auto;line-height:normal;font-family:Menlo,'DejaVu Sans Mono',consolas,'Courier New',monospace\">00:45:34.189 | <span style=\"color: #008080; text-decoration-color: #008080\">INFO</span>    | Flow run<span style=\"color: #800080; text-decoration-color: #800080\"> 'benign-butterfly'</span> - Terminando el flujo\n",
       "</pre>\n"
      ],
      "text/plain": [
       "00:45:34.189 | \u001b[36mINFO\u001b[0m    | Flow run\u001b[35m 'benign-butterfly'\u001b[0m - Terminando el flujo\n"
      ]
     },
     "metadata": {},
     "output_type": "display_data"
    },
    {
     "data": {
      "text/html": [
       "<pre style=\"white-space:pre;overflow-x:auto;line-height:normal;font-family:Menlo,'DejaVu Sans Mono',consolas,'Courier New',monospace\">00:45:34.713 | <span style=\"color: #008080; text-decoration-color: #008080\">INFO</span>    | Flow run<span style=\"color: #800080; text-decoration-color: #800080\"> 'benign-butterfly'</span> - Finished in state <span style=\"color: #008000; text-decoration-color: #008000\">Completed</span>('All states completed.')\n",
       "</pre>\n"
      ],
      "text/plain": [
       "00:45:34.713 | \u001b[36mINFO\u001b[0m    | Flow run\u001b[35m 'benign-butterfly'\u001b[0m - Finished in state \u001b[32mCompleted\u001b[0m('All states completed.')\n"
      ]
     },
     "metadata": {},
     "output_type": "display_data"
    },
    {
     "data": {
      "text/html": [
       "<pre style=\"white-space:pre;overflow-x:auto;line-height:normal;font-family:Menlo,'DejaVu Sans Mono',consolas,'Courier New',monospace\">00:45:37.470 | <span style=\"color: #008080; text-decoration-color: #008080\">INFO</span>    | prefect.engine - Created flow run<span style=\"color: #800080; text-decoration-color: #800080\"> 'fluffy-zebu'</span> for flow<span style=\"color: #800080; text-decoration-color: #800080; font-weight: bold\"> 'Hello Flow'</span>\n",
       "</pre>\n"
      ],
      "text/plain": [
       "00:45:37.470 | \u001b[36mINFO\u001b[0m    | prefect.engine - Created flow run\u001b[35m 'fluffy-zebu'\u001b[0m for flow\u001b[1;35m 'Hello Flow'\u001b[0m\n"
      ]
     },
     "metadata": {},
     "output_type": "display_data"
    },
    {
     "data": {
      "text/html": [
       "<pre style=\"white-space:pre;overflow-x:auto;line-height:normal;font-family:Menlo,'DejaVu Sans Mono',consolas,'Courier New',monospace\">00:45:37.472 | <span style=\"color: #008080; text-decoration-color: #008080\">INFO</span>    | Flow run<span style=\"color: #800080; text-decoration-color: #800080\"> 'fluffy-zebu'</span> - View at <span style=\"color: #0000ff; text-decoration-color: #0000ff\">https://app.prefect.cloud/account/12f914c1-6641-4886-b1fc-1a3d16bfdeed/workspace/4cc5a521-4d87-4d10-b1f2-383e1c72fb5c/flow-runs/flow-run/0489a738-e88c-429f-b3b2-8cccfd45d219</span>\n",
       "</pre>\n"
      ],
      "text/plain": [
       "00:45:37.472 | \u001b[36mINFO\u001b[0m    | Flow run\u001b[35m 'fluffy-zebu'\u001b[0m - View at \u001b[94mhttps://app.prefect.cloud/account/12f914c1-6641-4886-b1fc-1a3d16bfdeed/workspace/4cc5a521-4d87-4d10-b1f2-383e1c72fb5c/flow-runs/flow-run/0489a738-e88c-429f-b3b2-8cccfd45d219\u001b[0m\n"
      ]
     },
     "metadata": {},
     "output_type": "display_data"
    },
    {
     "data": {
      "text/html": [
       "<pre style=\"white-space:pre;overflow-x:auto;line-height:normal;font-family:Menlo,'DejaVu Sans Mono',consolas,'Courier New',monospace\">00:45:37.719 | <span style=\"color: #008080; text-decoration-color: #008080\">INFO</span>    | Flow run<span style=\"color: #800080; text-decoration-color: #800080\"> 'fluffy-zebu'</span> - Iniciando el flujo con la palabra clave log_prints=True\n",
       "</pre>\n"
      ],
      "text/plain": [
       "00:45:37.719 | \u001b[36mINFO\u001b[0m    | Flow run\u001b[35m 'fluffy-zebu'\u001b[0m - Iniciando el flujo con la palabra clave log_prints=True\n"
      ]
     },
     "metadata": {},
     "output_type": "display_data"
    },
    {
     "data": {
      "text/html": [
       "<pre style=\"white-space:pre;overflow-x:auto;line-height:normal;font-family:Menlo,'DejaVu Sans Mono',consolas,'Courier New',monospace\">00:45:38.208 | <span style=\"color: #008080; text-decoration-color: #008080\">INFO</span>    | Flow run<span style=\"color: #800080; text-decoration-color: #800080\"> 'fluffy-zebu'</span> - Created task run 'print_hello-0' for task 'print_hello'\n",
       "</pre>\n"
      ],
      "text/plain": [
       "00:45:38.208 | \u001b[36mINFO\u001b[0m    | Flow run\u001b[35m 'fluffy-zebu'\u001b[0m - Created task run 'print_hello-0' for task 'print_hello'\n"
      ]
     },
     "metadata": {},
     "output_type": "display_data"
    },
    {
     "data": {
      "text/html": [
       "<pre style=\"white-space:pre;overflow-x:auto;line-height:normal;font-family:Menlo,'DejaVu Sans Mono',consolas,'Courier New',monospace\">00:45:38.210 | <span style=\"color: #008080; text-decoration-color: #008080\">INFO</span>    | Flow run<span style=\"color: #800080; text-decoration-color: #800080\"> 'fluffy-zebu'</span> - Executing 'print_hello-0' immediately...\n",
       "</pre>\n"
      ],
      "text/plain": [
       "00:45:38.210 | \u001b[36mINFO\u001b[0m    | Flow run\u001b[35m 'fluffy-zebu'\u001b[0m - Executing 'print_hello-0' immediately...\n"
      ]
     },
     "metadata": {},
     "output_type": "display_data"
    },
    {
     "data": {
      "text/html": [
       "<pre style=\"white-space:pre;overflow-x:auto;line-height:normal;font-family:Menlo,'DejaVu Sans Mono',consolas,'Courier New',monospace\">00:45:38.750 | <span style=\"color: #008080; text-decoration-color: #008080\">INFO</span>    | Task run 'print_hello-0' - Hello Mundo!\n",
       "</pre>\n"
      ],
      "text/plain": [
       "00:45:38.750 | \u001b[36mINFO\u001b[0m    | Task run 'print_hello-0' - Hello Mundo!\n"
      ]
     },
     "metadata": {},
     "output_type": "display_data"
    },
    {
     "data": {
      "text/html": [
       "<pre style=\"white-space:pre;overflow-x:auto;line-height:normal;font-family:Menlo,'DejaVu Sans Mono',consolas,'Courier New',monospace\">00:45:39.485 | <span style=\"color: #008080; text-decoration-color: #008080\">INFO</span>    | Task run 'print_hello-0' - Finished in state <span style=\"color: #008000; text-decoration-color: #008000\">Completed</span>()\n",
       "</pre>\n"
      ],
      "text/plain": [
       "00:45:39.485 | \u001b[36mINFO\u001b[0m    | Task run 'print_hello-0' - Finished in state \u001b[32mCompleted\u001b[0m()\n"
      ]
     },
     "metadata": {},
     "output_type": "display_data"
    },
    {
     "data": {
      "text/html": [
       "<pre style=\"white-space:pre;overflow-x:auto;line-height:normal;font-family:Menlo,'DejaVu Sans Mono',consolas,'Courier New',monospace\">00:45:39.490 | <span style=\"color: #008080; text-decoration-color: #008080\">INFO</span>    | Flow run<span style=\"color: #800080; text-decoration-color: #800080\"> 'fluffy-zebu'</span> - Terminando el flujo\n",
       "</pre>\n"
      ],
      "text/plain": [
       "00:45:39.490 | \u001b[36mINFO\u001b[0m    | Flow run\u001b[35m 'fluffy-zebu'\u001b[0m - Terminando el flujo\n"
      ]
     },
     "metadata": {},
     "output_type": "display_data"
    },
    {
     "data": {
      "text/html": [
       "<pre style=\"white-space:pre;overflow-x:auto;line-height:normal;font-family:Menlo,'DejaVu Sans Mono',consolas,'Courier New',monospace\">00:45:39.993 | <span style=\"color: #008080; text-decoration-color: #008080\">INFO</span>    | Flow run<span style=\"color: #800080; text-decoration-color: #800080\"> 'fluffy-zebu'</span> - Finished in state <span style=\"color: #008000; text-decoration-color: #008000\">Completed</span>('All states completed.')\n",
       "</pre>\n"
      ],
      "text/plain": [
       "00:45:39.993 | \u001b[36mINFO\u001b[0m    | Flow run\u001b[35m 'fluffy-zebu'\u001b[0m - Finished in state \u001b[32mCompleted\u001b[0m('All states completed.')\n"
      ]
     },
     "metadata": {},
     "output_type": "display_data"
    },
    {
     "data": {
      "text/plain": [
       "[Completed(message=None, type=COMPLETED, result=UnpersistedResult(type='unpersisted', artifact_type='result', artifact_description='Unpersisted result of type `NoneType`'))]"
      ]
     },
     "execution_count": 6,
     "metadata": {},
     "output_type": "execute_result"
    }
   ],
   "source": [
    "\n",
    "\n",
    "@task\n",
    "def print_hello(name):\n",
    "    print(f\"Hello {name}!\")\n",
    "\n",
    "@flow(name=\"Hello Flow\",log_prints=True)\n",
    "def hello_world(name=\"world\"):\n",
    "    print(\"Iniciando el flujo con la palabra clave log_prints=True\")\n",
    "    print_hello(name)\n",
    "    print(\"Terminando el flujo\")\n",
    "\n",
    "\n",
    "#if __name__ == '__main__':\n",
    "hello_world()\n",
    "hello_world(\"Mundo\")"
   ]
  },
  {
   "cell_type": "markdown",
   "metadata": {},
   "source": [
    "\n",
    "# Logging vs Artifacts\n",
    "\n",
    "The example above is for educational purposes. In general, it is better to use Prefect artifacts for storing metrics and output. Logs are best for tracking progress and debugging errors."
   ]
  },
  {
   "cell_type": "code",
   "execution_count": 7,
   "metadata": {},
   "outputs": [
    {
     "data": {
      "text/html": [
       "<pre style=\"white-space:pre;overflow-x:auto;line-height:normal;font-family:Menlo,'DejaVu Sans Mono',consolas,'Courier New',monospace\">00:47:39.667 | <span style=\"color: #008080; text-decoration-color: #008080\">INFO</span>    | prefect.engine - Created flow run<span style=\"color: #800080; text-decoration-color: #800080\"> 'jolly-python'</span> for flow<span style=\"color: #800080; text-decoration-color: #800080; font-weight: bold\"> 'my-flow'</span>\n",
       "</pre>\n"
      ],
      "text/plain": [
       "00:47:39.667 | \u001b[36mINFO\u001b[0m    | prefect.engine - Created flow run\u001b[35m 'jolly-python'\u001b[0m for flow\u001b[1;35m 'my-flow'\u001b[0m\n"
      ]
     },
     "metadata": {},
     "output_type": "display_data"
    },
    {
     "data": {
      "text/html": [
       "<pre style=\"white-space:pre;overflow-x:auto;line-height:normal;font-family:Menlo,'DejaVu Sans Mono',consolas,'Courier New',monospace\">00:47:39.670 | <span style=\"color: #008080; text-decoration-color: #008080\">INFO</span>    | Flow run<span style=\"color: #800080; text-decoration-color: #800080\"> 'jolly-python'</span> - View at <span style=\"color: #0000ff; text-decoration-color: #0000ff\">https://app.prefect.cloud/account/12f914c1-6641-4886-b1fc-1a3d16bfdeed/workspace/4cc5a521-4d87-4d10-b1f2-383e1c72fb5c/flow-runs/flow-run/8579345a-81bb-4d81-ba3b-5ce98cbd663f</span>\n",
       "</pre>\n"
      ],
      "text/plain": [
       "00:47:39.670 | \u001b[36mINFO\u001b[0m    | Flow run\u001b[35m 'jolly-python'\u001b[0m - View at \u001b[94mhttps://app.prefect.cloud/account/12f914c1-6641-4886-b1fc-1a3d16bfdeed/workspace/4cc5a521-4d87-4d10-b1f2-383e1c72fb5c/flow-runs/flow-run/8579345a-81bb-4d81-ba3b-5ce98cbd663f\u001b[0m\n"
      ]
     },
     "metadata": {},
     "output_type": "display_data"
    },
    {
     "data": {
      "text/html": [
       "<pre style=\"white-space:pre;overflow-x:auto;line-height:normal;font-family:Menlo,'DejaVu Sans Mono',consolas,'Courier New',monospace\">00:47:40.048 | <span style=\"color: #008080; text-decoration-color: #008080\">INFO</span>    | Flow run<span style=\"color: #800080; text-decoration-color: #800080\"> 'jolly-python'</span> - Created task run 'my_first_task-0' for task 'my_first_task'\n",
       "</pre>\n"
      ],
      "text/plain": [
       "00:47:40.048 | \u001b[36mINFO\u001b[0m    | Flow run\u001b[35m 'jolly-python'\u001b[0m - Created task run 'my_first_task-0' for task 'my_first_task'\n"
      ]
     },
     "metadata": {},
     "output_type": "display_data"
    },
    {
     "data": {
      "text/html": [
       "<pre style=\"white-space:pre;overflow-x:auto;line-height:normal;font-family:Menlo,'DejaVu Sans Mono',consolas,'Courier New',monospace\">00:47:40.050 | <span style=\"color: #008080; text-decoration-color: #008080\">INFO</span>    | Flow run<span style=\"color: #800080; text-decoration-color: #800080\"> 'jolly-python'</span> - Executing 'my_first_task-0' immediately...\n",
       "</pre>\n"
      ],
      "text/plain": [
       "00:47:40.050 | \u001b[36mINFO\u001b[0m    | Flow run\u001b[35m 'jolly-python'\u001b[0m - Executing 'my_first_task-0' immediately...\n"
      ]
     },
     "metadata": {},
     "output_type": "display_data"
    },
    {
     "data": {
      "text/html": [
       "<pre style=\"white-space:pre;overflow-x:auto;line-height:normal;font-family:Menlo,'DejaVu Sans Mono',consolas,'Courier New',monospace\">00:47:41.713 | <span style=\"color: #008080; text-decoration-color: #008080\">INFO</span>    | Task run 'my_first_task-0' - Finished in state <span style=\"color: #008000; text-decoration-color: #008000\">Completed</span>()\n",
       "</pre>\n"
      ],
      "text/plain": [
       "00:47:41.713 | \u001b[36mINFO\u001b[0m    | Task run 'my_first_task-0' - Finished in state \u001b[32mCompleted\u001b[0m()\n"
      ]
     },
     "metadata": {},
     "output_type": "display_data"
    },
    {
     "data": {
      "text/html": [
       "<pre style=\"white-space:pre;overflow-x:auto;line-height:normal;font-family:Menlo,'DejaVu Sans Mono',consolas,'Courier New',monospace\">00:47:42.402 | <span style=\"color: #008080; text-decoration-color: #008080\">INFO</span>    | Flow run<span style=\"color: #800080; text-decoration-color: #800080\"> 'jolly-python'</span> - Created task run 'my_second_task-0' for task 'my_second_task'\n",
       "</pre>\n"
      ],
      "text/plain": [
       "00:47:42.402 | \u001b[36mINFO\u001b[0m    | Flow run\u001b[35m 'jolly-python'\u001b[0m - Created task run 'my_second_task-0' for task 'my_second_task'\n"
      ]
     },
     "metadata": {},
     "output_type": "display_data"
    },
    {
     "data": {
      "text/html": [
       "<pre style=\"white-space:pre;overflow-x:auto;line-height:normal;font-family:Menlo,'DejaVu Sans Mono',consolas,'Courier New',monospace\">00:47:42.404 | <span style=\"color: #008080; text-decoration-color: #008080\">INFO</span>    | Flow run<span style=\"color: #800080; text-decoration-color: #800080\"> 'jolly-python'</span> - Executing 'my_second_task-0' immediately...\n",
       "</pre>\n"
      ],
      "text/plain": [
       "00:47:42.404 | \u001b[36mINFO\u001b[0m    | Flow run\u001b[35m 'jolly-python'\u001b[0m - Executing 'my_second_task-0' immediately...\n"
      ]
     },
     "metadata": {},
     "output_type": "display_data"
    },
    {
     "data": {
      "text/html": [
       "<pre style=\"white-space:pre;overflow-x:auto;line-height:normal;font-family:Menlo,'DejaVu Sans Mono',consolas,'Courier New',monospace\">00:47:43.944 | <span style=\"color: #008080; text-decoration-color: #008080\">INFO</span>    | Task run 'my_second_task-0' - Finished in state <span style=\"color: #008000; text-decoration-color: #008000\">Completed</span>()\n",
       "</pre>\n"
      ],
      "text/plain": [
       "00:47:43.944 | \u001b[36mINFO\u001b[0m    | Task run 'my_second_task-0' - Finished in state \u001b[32mCompleted\u001b[0m()\n"
      ]
     },
     "metadata": {},
     "output_type": "display_data"
    },
    {
     "data": {
      "text/html": [
       "<pre style=\"white-space:pre;overflow-x:auto;line-height:normal;font-family:Menlo,'DejaVu Sans Mono',consolas,'Courier New',monospace\">00:47:44.432 | <span style=\"color: #008080; text-decoration-color: #008080\">INFO</span>    | Flow run<span style=\"color: #800080; text-decoration-color: #800080\"> 'jolly-python'</span> - Finished in state <span style=\"color: #008000; text-decoration-color: #008000\">Completed</span>('All states completed.')\n",
       "</pre>\n"
      ],
      "text/plain": [
       "00:47:44.432 | \u001b[36mINFO\u001b[0m    | Flow run\u001b[35m 'jolly-python'\u001b[0m - Finished in state \u001b[32mCompleted\u001b[0m('All states completed.')\n"
      ]
     },
     "metadata": {},
     "output_type": "display_data"
    },
    {
     "data": {
      "text/plain": [
       "[Completed(message=None, type=COMPLETED, result=UnpersistedResult(type='unpersisted', artifact_type='result', artifact_description='Unpersisted result of type `NoneType`')),\n",
       " Completed(message=None, type=COMPLETED, result=UnpersistedResult(type='unpersisted', artifact_type='result', artifact_description='Unpersisted result of type `NoneType`'))]"
      ]
     },
     "execution_count": 7,
     "metadata": {},
     "output_type": "execute_result"
    }
   ],
   "source": [
    "from prefect import flow, task\n",
    "from prefect.artifacts import create_link_artifact\n",
    "\n",
    "@task\n",
    "def my_first_task():\n",
    "        create_link_artifact(\n",
    "            key=\"irregular-data\",\n",
    "            link=\"https://nyc3.digitaloceanspaces.com/my-bucket-name/highly_variable_data.csv\",\n",
    "            description=\"## Highly variable data\",\n",
    "        )\n",
    "\n",
    "@task\n",
    "def my_second_task():\n",
    "        create_link_artifact(\n",
    "            key=\"irregular-data\",\n",
    "            link=\"https://nyc3.digitaloceanspaces.com/my-bucket-name/low_pred_data.csv\",\n",
    "            description=\"# Low prediction accuracy\",\n",
    "        )\n",
    "\n",
    "@flow\n",
    "def my_flow():\n",
    "    my_first_task()\n",
    "    my_second_task()\n",
    "#if __name__ == \"__main__\":\n",
    "my_flow()"
   ]
  },
  {
   "cell_type": "code",
   "execution_count": 8,
   "metadata": {},
   "outputs": [
    {
     "name": "stderr",
     "output_type": "stream",
     "text": [
      "c:\\Users\\Mich2020\\Anaconda3\\envs\\ETLSpoty\\Lib\\site-packages\\prefect\\flows.py:343: UserWarning: A flow named 'my-flow' and defined at 'C:\\Users\\Mich2020\\AppData\\Local\\Temp\\ipykernel_43284\\4082393561.py:42' conflicts with another flow. Consider specifying a unique `name` parameter in the flow definition:\n",
      "\n",
      " `@flow(name='my_unique_name', ...)`\n",
      "  warnings.warn(\n"
     ]
    },
    {
     "data": {
      "text/html": [
       "<pre style=\"white-space:pre;overflow-x:auto;line-height:normal;font-family:Menlo,'DejaVu Sans Mono',consolas,'Courier New',monospace\">00:53:06.489 | <span style=\"color: #008080; text-decoration-color: #008080\">INFO</span>    | prefect.engine - Created flow run<span style=\"color: #800080; text-decoration-color: #800080\"> 'hairy-seagull'</span> for flow<span style=\"color: #800080; text-decoration-color: #800080; font-weight: bold\"> 'my-flow'</span>\n",
       "</pre>\n"
      ],
      "text/plain": [
       "00:53:06.489 | \u001b[36mINFO\u001b[0m    | prefect.engine - Created flow run\u001b[35m 'hairy-seagull'\u001b[0m for flow\u001b[1;35m 'my-flow'\u001b[0m\n"
      ]
     },
     "metadata": {},
     "output_type": "display_data"
    },
    {
     "data": {
      "text/html": [
       "<pre style=\"white-space:pre;overflow-x:auto;line-height:normal;font-family:Menlo,'DejaVu Sans Mono',consolas,'Courier New',monospace\">00:53:06.491 | <span style=\"color: #008080; text-decoration-color: #008080\">INFO</span>    | Flow run<span style=\"color: #800080; text-decoration-color: #800080\"> 'hairy-seagull'</span> - View at <span style=\"color: #0000ff; text-decoration-color: #0000ff\">https://app.prefect.cloud/account/12f914c1-6641-4886-b1fc-1a3d16bfdeed/workspace/4cc5a521-4d87-4d10-b1f2-383e1c72fb5c/flow-runs/flow-run/d18b70cc-cfcc-4063-8015-a91e7dd6cb7b</span>\n",
       "</pre>\n"
      ],
      "text/plain": [
       "00:53:06.491 | \u001b[36mINFO\u001b[0m    | Flow run\u001b[35m 'hairy-seagull'\u001b[0m - View at \u001b[94mhttps://app.prefect.cloud/account/12f914c1-6641-4886-b1fc-1a3d16bfdeed/workspace/4cc5a521-4d87-4d10-b1f2-383e1c72fb5c/flow-runs/flow-run/d18b70cc-cfcc-4063-8015-a91e7dd6cb7b\u001b[0m\n"
      ]
     },
     "metadata": {},
     "output_type": "display_data"
    },
    {
     "data": {
      "text/html": [
       "<pre style=\"white-space:pre;overflow-x:auto;line-height:normal;font-family:Menlo,'DejaVu Sans Mono',consolas,'Courier New',monospace\">00:53:06.875 | <span style=\"color: #008080; text-decoration-color: #008080\">INFO</span>    | Flow run<span style=\"color: #800080; text-decoration-color: #800080\"> 'hairy-seagull'</span> - Created task run 'markdown_task-0' for task 'markdown_task'\n",
       "</pre>\n"
      ],
      "text/plain": [
       "00:53:06.875 | \u001b[36mINFO\u001b[0m    | Flow run\u001b[35m 'hairy-seagull'\u001b[0m - Created task run 'markdown_task-0' for task 'markdown_task'\n"
      ]
     },
     "metadata": {},
     "output_type": "display_data"
    },
    {
     "data": {
      "text/html": [
       "<pre style=\"white-space:pre;overflow-x:auto;line-height:normal;font-family:Menlo,'DejaVu Sans Mono',consolas,'Courier New',monospace\">00:53:06.878 | <span style=\"color: #008080; text-decoration-color: #008080\">INFO</span>    | Flow run<span style=\"color: #800080; text-decoration-color: #800080\"> 'hairy-seagull'</span> - Executing 'markdown_task-0' immediately...\n",
       "</pre>\n"
      ],
      "text/plain": [
       "00:53:06.878 | \u001b[36mINFO\u001b[0m    | Flow run\u001b[35m 'hairy-seagull'\u001b[0m - Executing 'markdown_task-0' immediately...\n"
      ]
     },
     "metadata": {},
     "output_type": "display_data"
    },
    {
     "data": {
      "text/html": [
       "<pre style=\"white-space:pre;overflow-x:auto;line-height:normal;font-family:Menlo,'DejaVu Sans Mono',consolas,'Courier New',monospace\">00:53:08.642 | <span style=\"color: #008080; text-decoration-color: #008080\">INFO</span>    | Task run 'markdown_task-0' - Finished in state <span style=\"color: #008000; text-decoration-color: #008000\">Completed</span>()\n",
       "</pre>\n"
      ],
      "text/plain": [
       "00:53:08.642 | \u001b[36mINFO\u001b[0m    | Task run 'markdown_task-0' - Finished in state \u001b[32mCompleted\u001b[0m()\n"
      ]
     },
     "metadata": {},
     "output_type": "display_data"
    },
    {
     "data": {
      "text/html": [
       "<pre style=\"white-space:pre;overflow-x:auto;line-height:normal;font-family:Menlo,'DejaVu Sans Mono',consolas,'Courier New',monospace\">00:53:09.132 | <span style=\"color: #008080; text-decoration-color: #008080\">INFO</span>    | Flow run<span style=\"color: #800080; text-decoration-color: #800080\"> 'hairy-seagull'</span> - Finished in state <span style=\"color: #008000; text-decoration-color: #008000\">Completed</span>('All states completed.')\n",
       "</pre>\n"
      ],
      "text/plain": [
       "00:53:09.132 | \u001b[36mINFO\u001b[0m    | Flow run\u001b[35m 'hairy-seagull'\u001b[0m - Finished in state \u001b[32mCompleted\u001b[0m('All states completed.')\n"
      ]
     },
     "metadata": {},
     "output_type": "display_data"
    },
    {
     "data": {
      "text/plain": [
       "[Completed(message=None, type=COMPLETED, result=UnpersistedResult(type='unpersisted', artifact_type='result', artifact_description='Unpersisted result of type `NoneType`'))]"
      ]
     },
     "execution_count": 8,
     "metadata": {},
     "output_type": "execute_result"
    }
   ],
   "source": [
    "from prefect import flow, task\n",
    "from prefect.artifacts import create_markdown_artifact\n",
    "\n",
    "@task\n",
    "def markdown_task():\n",
    "    na_revenue = 500000\n",
    "    markdown_report = f\"\"\"# Sales Report\n",
    "\n",
    "## Summary\n",
    "\n",
    "In the past quarter, our company saw a significant increase in sales, with a total revenue of $1,000,000. \n",
    "This represents a 20% increase over the same period last year.\n",
    "\n",
    "## Sales by Region\n",
    "\n",
    "| Region        | Revenue |\n",
    "|:--------------|-------:|\n",
    "| North America | ${na_revenue:,} |\n",
    "| Europe        | $250,000 |\n",
    "| Asia          | $150,000 |\n",
    "| South America | $75,000 |\n",
    "| Africa        | $25,000 |\n",
    "\n",
    "## Top Products\n",
    "\n",
    "1. Product A - $300,000 in revenue\n",
    "2. Product B - $200,000 in revenue\n",
    "3. Product C - $150,000 in revenue\n",
    "\n",
    "## Conclusion\n",
    "\n",
    "Overall, these results are very encouraging and demonstrate the success of our sales team in increasing revenue \n",
    "across all regions. However, we still have room for improvement and should focus on further increasing sales in \n",
    "the coming quarter.\n",
    "\"\"\"\n",
    "    create_markdown_artifact(\n",
    "        key=\"gtm-report\",\n",
    "        markdown=markdown_report,\n",
    "        description=\"Quarterly Sales Report\",\n",
    "    )\n",
    "\n",
    "@flow()\n",
    "def my_flow():\n",
    "    markdown_task()\n",
    "\n",
    "\n",
    "#if __name__ == \"__main__\":\n",
    "my_flow()"
   ]
  },
  {
   "cell_type": "code",
   "execution_count": null,
   "metadata": {},
   "outputs": [],
   "source": []
  },
  {
   "cell_type": "markdown",
   "metadata": {},
   "source": [
    "# Retries\n",
    "\n",
    "So far our script works, but in the future unexpected errors may occur. For example the GitHub API may be temporarily unavailable or rate limited. Retries help make our flow more resilient. Let's add retry functionality to our example above:\n",
    "\n",
    "#https://docs.prefect.io/latest/tutorial/flows/"
   ]
  },
  {
   "cell_type": "code",
   "execution_count": 10,
   "metadata": {},
   "outputs": [],
   "source": [
    "import numpy as np"
   ]
  },
  {
   "cell_type": "code",
   "execution_count": 16,
   "metadata": {},
   "outputs": [
    {
     "name": "stdout",
     "output_type": "stream",
     "text": [
      "62.4\n",
      "43.8\n",
      "46.4\n",
      "60.0\n",
      "41.6\n",
      "41.3\n",
      "54.2\n",
      "33.8\n",
      "56.6\n",
      "65.3\n"
     ]
    }
   ],
   "source": [
    "np.random.seed(42)\n",
    "\n",
    "for i in range(10):\n",
    "    print( np.random.randint(0, 100, 10).mean() ) "
   ]
  },
  {
   "cell_type": "code",
   "execution_count": 18,
   "metadata": {},
   "outputs": [
    {
     "name": "stderr",
     "output_type": "stream",
     "text": [
      "c:\\Users\\Mich2020\\Anaconda3\\envs\\ETLSpoty\\Lib\\site-packages\\prefect\\flows.py:343: UserWarning: A flow named 'get-repo-mean' and defined at 'C:\\Users\\Mich2020\\AppData\\Local\\Temp\\ipykernel_43284\\248649954.py:3' conflicts with another flow. Consider specifying a unique `name` parameter in the flow definition:\n",
      "\n",
      " `@flow(name='my_unique_name', ...)`\n",
      "  warnings.warn(\n"
     ]
    },
    {
     "data": {
      "text/html": [
       "<pre style=\"white-space:pre;overflow-x:auto;line-height:normal;font-family:Menlo,'DejaVu Sans Mono',consolas,'Courier New',monospace\">01:00:36.143 | <span style=\"color: #008080; text-decoration-color: #008080\">INFO</span>    | prefect.engine - Created flow run<span style=\"color: #800080; text-decoration-color: #800080\"> 'devout-chinchilla'</span> for flow<span style=\"color: #800080; text-decoration-color: #800080; font-weight: bold\"> 'get-repo-mean'</span>\n",
       "</pre>\n"
      ],
      "text/plain": [
       "01:00:36.143 | \u001b[36mINFO\u001b[0m    | prefect.engine - Created flow run\u001b[35m 'devout-chinchilla'\u001b[0m for flow\u001b[1;35m 'get-repo-mean'\u001b[0m\n"
      ]
     },
     "metadata": {},
     "output_type": "display_data"
    },
    {
     "data": {
      "text/html": [
       "<pre style=\"white-space:pre;overflow-x:auto;line-height:normal;font-family:Menlo,'DejaVu Sans Mono',consolas,'Courier New',monospace\">01:00:36.145 | <span style=\"color: #008080; text-decoration-color: #008080\">INFO</span>    | Flow run<span style=\"color: #800080; text-decoration-color: #800080\"> 'devout-chinchilla'</span> - View at <span style=\"color: #0000ff; text-decoration-color: #0000ff\">https://app.prefect.cloud/account/12f914c1-6641-4886-b1fc-1a3d16bfdeed/workspace/4cc5a521-4d87-4d10-b1f2-383e1c72fb5c/flow-runs/flow-run/86fb6aff-857b-40a2-bc16-f86b8ea7cd4c</span>\n",
       "</pre>\n"
      ],
      "text/plain": [
       "01:00:36.145 | \u001b[36mINFO\u001b[0m    | Flow run\u001b[35m 'devout-chinchilla'\u001b[0m - View at \u001b[94mhttps://app.prefect.cloud/account/12f914c1-6641-4886-b1fc-1a3d16bfdeed/workspace/4cc5a521-4d87-4d10-b1f2-383e1c72fb5c/flow-runs/flow-run/86fb6aff-857b-40a2-bc16-f86b8ea7cd4c\u001b[0m\n"
      ]
     },
     "metadata": {},
     "output_type": "display_data"
    },
    {
     "data": {
      "text/html": [
       "<pre style=\"white-space:pre;overflow-x:auto;line-height:normal;font-family:Menlo,'DejaVu Sans Mono',consolas,'Courier New',monospace\">01:00:36.978 | <span style=\"color: #008080; text-decoration-color: #008080\">INFO</span>    | Flow run<span style=\"color: #800080; text-decoration-color: #800080\"> 'devout-chinchilla'</span> - Iniciando un flujo de trabajo\n",
       "</pre>\n"
      ],
      "text/plain": [
       "01:00:36.978 | \u001b[36mINFO\u001b[0m    | Flow run\u001b[35m 'devout-chinchilla'\u001b[0m - Iniciando un flujo de trabajo\n"
      ]
     },
     "metadata": {},
     "output_type": "display_data"
    },
    {
     "data": {
      "text/html": [
       "<pre style=\"white-space:pre;overflow-x:auto;line-height:normal;font-family:Menlo,'DejaVu Sans Mono',consolas,'Courier New',monospace\">01:00:37.323 | <span style=\"color: #d70000; text-decoration-color: #d70000\">ERROR</span>   | Flow run<span style=\"color: #800080; text-decoration-color: #800080\"> 'devout-chinchilla'</span> - Encountered exception during execution:\n",
       "Traceback (most recent call last):\n",
       "  File \"c:\\Users\\Mich2020\\Anaconda3\\envs\\ETLSpoty\\Lib\\site-packages\\prefect\\engine.py\", line 864, in orchestrate_flow_run\n",
       "    result = await flow_call.aresult()\n",
       "             ^^^^^^^^^^^^^^^^^^^^^^^^^\n",
       "  File \"c:\\Users\\Mich2020\\Anaconda3\\envs\\ETLSpoty\\Lib\\site-packages\\prefect\\_internal\\concurrency\\calls.py\", line 326, in aresult\n",
       "    return await asyncio.wrap_future(self.future)\n",
       "           ^^^^^^^^^^^^^^^^^^^^^^^^^^^^^^^^^^^^^^\n",
       "  File \"c:\\Users\\Mich2020\\Anaconda3\\envs\\ETLSpoty\\Lib\\site-packages\\prefect\\_internal\\concurrency\\calls.py\", line 351, in _run_sync\n",
       "    result = self.fn(*self.args, **self.kwargs)\n",
       "             ^^^^^^^^^^^^^^^^^^^^^^^^^^^^^^^^^^\n",
       "  File \"C:\\Users\\Mich2020\\AppData\\Local\\Temp\\ipykernel_43284\\248649954.py\", line 8, in get_repo_mean\n",
       "    raise ValueError(\"El número es mayor que 50\")\n",
       "ValueError: El número es mayor que 50\n",
       "</pre>\n"
      ],
      "text/plain": [
       "01:00:37.323 | \u001b[38;5;160mERROR\u001b[0m   | Flow run\u001b[35m 'devout-chinchilla'\u001b[0m - Encountered exception during execution:\n",
       "Traceback (most recent call last):\n",
       "  File \"c:\\Users\\Mich2020\\Anaconda3\\envs\\ETLSpoty\\Lib\\site-packages\\prefect\\engine.py\", line 864, in orchestrate_flow_run\n",
       "    result = await flow_call.aresult()\n",
       "             ^^^^^^^^^^^^^^^^^^^^^^^^^\n",
       "  File \"c:\\Users\\Mich2020\\Anaconda3\\envs\\ETLSpoty\\Lib\\site-packages\\prefect\\_internal\\concurrency\\calls.py\", line 326, in aresult\n",
       "    return await asyncio.wrap_future(self.future)\n",
       "           ^^^^^^^^^^^^^^^^^^^^^^^^^^^^^^^^^^^^^^\n",
       "  File \"c:\\Users\\Mich2020\\Anaconda3\\envs\\ETLSpoty\\Lib\\site-packages\\prefect\\_internal\\concurrency\\calls.py\", line 351, in _run_sync\n",
       "    result = self.fn(*self.args, **self.kwargs)\n",
       "             ^^^^^^^^^^^^^^^^^^^^^^^^^^^^^^^^^^\n",
       "  File \"C:\\Users\\Mich2020\\AppData\\Local\\Temp\\ipykernel_43284\\248649954.py\", line 8, in get_repo_mean\n",
       "    raise ValueError(\"El número es mayor que 50\")\n",
       "ValueError: El número es mayor que 50\n"
      ]
     },
     "metadata": {},
     "output_type": "display_data"
    },
    {
     "data": {
      "text/html": [
       "<pre style=\"white-space:pre;overflow-x:auto;line-height:normal;font-family:Menlo,'DejaVu Sans Mono',consolas,'Courier New',monospace\">01:00:37.513 | <span style=\"color: #008080; text-decoration-color: #008080\">INFO</span>    | Flow run<span style=\"color: #800080; text-decoration-color: #800080\"> 'devout-chinchilla'</span> - Received non-final state 'AwaitingRetry' when proposing final state '<span style=\"color: #d70000; text-decoration-color: #d70000\">Failed</span>' and will attempt to run again...\n",
       "</pre>\n"
      ],
      "text/plain": [
       "01:00:37.513 | \u001b[36mINFO\u001b[0m    | Flow run\u001b[35m 'devout-chinchilla'\u001b[0m - Received non-final state 'AwaitingRetry' when proposing final state '\u001b[38;5;160mFailed\u001b[0m' and will attempt to run again...\n"
      ]
     },
     "metadata": {},
     "output_type": "display_data"
    },
    {
     "data": {
      "text/html": [
       "<pre style=\"white-space:pre;overflow-x:auto;line-height:normal;font-family:Menlo,'DejaVu Sans Mono',consolas,'Courier New',monospace\">01:00:43.014 | <span style=\"color: #008080; text-decoration-color: #008080\">INFO</span>    | Flow run<span style=\"color: #800080; text-decoration-color: #800080\"> 'devout-chinchilla'</span> - Iniciando un flujo de trabajo\n",
       "</pre>\n"
      ],
      "text/plain": [
       "01:00:43.014 | \u001b[36mINFO\u001b[0m    | Flow run\u001b[35m 'devout-chinchilla'\u001b[0m - Iniciando un flujo de trabajo\n"
      ]
     },
     "metadata": {},
     "output_type": "display_data"
    },
    {
     "data": {
      "text/html": [
       "<pre style=\"white-space:pre;overflow-x:auto;line-height:normal;font-family:Menlo,'DejaVu Sans Mono',consolas,'Courier New',monospace\">01:00:43.016 | <span style=\"color: #008080; text-decoration-color: #008080\">INFO</span>    | Flow run<span style=\"color: #800080; text-decoration-color: #800080\"> 'devout-chinchilla'</span> - El número es 43.8\n",
       "</pre>\n"
      ],
      "text/plain": [
       "01:00:43.016 | \u001b[36mINFO\u001b[0m    | Flow run\u001b[35m 'devout-chinchilla'\u001b[0m - El número es 43.8\n"
      ]
     },
     "metadata": {},
     "output_type": "display_data"
    },
    {
     "data": {
      "text/html": [
       "<pre style=\"white-space:pre;overflow-x:auto;line-height:normal;font-family:Menlo,'DejaVu Sans Mono',consolas,'Courier New',monospace\">01:00:43.162 | <span style=\"color: #008080; text-decoration-color: #008080\">INFO</span>    | Flow run<span style=\"color: #800080; text-decoration-color: #800080\"> 'devout-chinchilla'</span> - Finished in state <span style=\"color: #008000; text-decoration-color: #008000\">Completed</span>()\n",
       "</pre>\n"
      ],
      "text/plain": [
       "01:00:43.162 | \u001b[36mINFO\u001b[0m    | Flow run\u001b[35m 'devout-chinchilla'\u001b[0m - Finished in state \u001b[32mCompleted\u001b[0m()\n"
      ]
     },
     "metadata": {},
     "output_type": "display_data"
    }
   ],
   "source": [
    "np.random.seed(42)\n",
    "\n",
    "@flow(retries=3, retry_delay_seconds=5, log_prints=True)\n",
    "def get_repo_mean(repo_name: str = \"PrefectHQ/prefect\"):\n",
    "    print(\"Iniciando un flujo de trabajo\")\n",
    "    num = np.random.randint(0, 100, 10).mean()\n",
    "    if num > 50:\n",
    "        raise ValueError(\"El número es mayor que 50\")\n",
    "    \n",
    "    print(f\"El número es {num}\")\n",
    "    \n",
    "    \n",
    "\n",
    "get_repo_mean()\n"
   ]
  },
  {
   "cell_type": "markdown",
   "metadata": {},
   "source": [
    "# What is a task?\n",
    "\n",
    "A task is any Python function decorated with a @task decorator called within a flow. You can think of a flow as a recipe for connecting a known sequence of tasks together. Tasks, and the dependencies between them, are displayed in the flow run graph, enabling you to break down a complex flow into something you can observe, understand and control at a more granular level.\n",
    "When a function becomes a task, it can be executed concurrently and its return value can be cached.\n",
    "\n",
    "https://docs.prefect.io/latest/tutorial/tasks/"
   ]
  },
  {
   "cell_type": "code",
   "execution_count": 29,
   "metadata": {},
   "outputs": [
    {
     "name": "stderr",
     "output_type": "stream",
     "text": [
      "c:\\Users\\Mich2020\\Anaconda3\\envs\\ETLSpoty\\Lib\\site-packages\\prefect\\tasks.py:339: UserWarning: A task named 'validate_mean' and defined at 'C:\\Users\\Mich2020\\AppData\\Local\\Temp\\ipykernel_43284\\1880710917.py:3' conflicts with another task. Consider specifying a unique `name` parameter in the task definition:\n",
      "\n",
      " `@task(name='my_unique_name', ...)`\n",
      "  warnings.warn(\n",
      "c:\\Users\\Mich2020\\Anaconda3\\envs\\ETLSpoty\\Lib\\site-packages\\prefect\\flows.py:343: UserWarning: A flow named 'get-repo-mean' and defined at 'C:\\Users\\Mich2020\\AppData\\Local\\Temp\\ipykernel_43284\\1880710917.py:10' conflicts with another flow. Consider specifying a unique `name` parameter in the flow definition:\n",
      "\n",
      " `@flow(name='my_unique_name', ...)`\n",
      "  warnings.warn(\n"
     ]
    },
    {
     "data": {
      "text/html": [
       "<pre style=\"white-space:pre;overflow-x:auto;line-height:normal;font-family:Menlo,'DejaVu Sans Mono',consolas,'Courier New',monospace\">01:40:34.237 | <span style=\"color: #008080; text-decoration-color: #008080\">INFO</span>    | prefect.engine - Created flow run<span style=\"color: #800080; text-decoration-color: #800080\"> 'terrestrial-marten'</span> for flow<span style=\"color: #800080; text-decoration-color: #800080; font-weight: bold\"> 'get-repo-mean'</span>\n",
       "</pre>\n"
      ],
      "text/plain": [
       "01:40:34.237 | \u001b[36mINFO\u001b[0m    | prefect.engine - Created flow run\u001b[35m 'terrestrial-marten'\u001b[0m for flow\u001b[1;35m 'get-repo-mean'\u001b[0m\n"
      ]
     },
     "metadata": {},
     "output_type": "display_data"
    },
    {
     "data": {
      "text/html": [
       "<pre style=\"white-space:pre;overflow-x:auto;line-height:normal;font-family:Menlo,'DejaVu Sans Mono',consolas,'Courier New',monospace\">01:40:34.239 | <span style=\"color: #008080; text-decoration-color: #008080\">INFO</span>    | Flow run<span style=\"color: #800080; text-decoration-color: #800080\"> 'terrestrial-marten'</span> - View at <span style=\"color: #0000ff; text-decoration-color: #0000ff\">https://app.prefect.cloud/account/12f914c1-6641-4886-b1fc-1a3d16bfdeed/workspace/4cc5a521-4d87-4d10-b1f2-383e1c72fb5c/flow-runs/flow-run/794a0b2c-f43b-4a10-8d9c-9a7eb81726f0</span>\n",
       "</pre>\n"
      ],
      "text/plain": [
       "01:40:34.239 | \u001b[36mINFO\u001b[0m    | Flow run\u001b[35m 'terrestrial-marten'\u001b[0m - View at \u001b[94mhttps://app.prefect.cloud/account/12f914c1-6641-4886-b1fc-1a3d16bfdeed/workspace/4cc5a521-4d87-4d10-b1f2-383e1c72fb5c/flow-runs/flow-run/794a0b2c-f43b-4a10-8d9c-9a7eb81726f0\u001b[0m\n"
      ]
     },
     "metadata": {},
     "output_type": "display_data"
    },
    {
     "data": {
      "text/html": [
       "<pre style=\"white-space:pre;overflow-x:auto;line-height:normal;font-family:Menlo,'DejaVu Sans Mono',consolas,'Courier New',monospace\">01:40:34.477 | <span style=\"color: #008080; text-decoration-color: #008080\">INFO</span>    | Flow run<span style=\"color: #800080; text-decoration-color: #800080\"> 'terrestrial-marten'</span> - Iniciando un flujo de trabajo\n",
       "</pre>\n"
      ],
      "text/plain": [
       "01:40:34.477 | \u001b[36mINFO\u001b[0m    | Flow run\u001b[35m 'terrestrial-marten'\u001b[0m - Iniciando un flujo de trabajo\n"
      ]
     },
     "metadata": {},
     "output_type": "display_data"
    },
    {
     "data": {
      "text/html": [
       "<pre style=\"white-space:pre;overflow-x:auto;line-height:normal;font-family:Menlo,'DejaVu Sans Mono',consolas,'Courier New',monospace\">01:40:34.955 | <span style=\"color: #008080; text-decoration-color: #008080\">INFO</span>    | Flow run<span style=\"color: #800080; text-decoration-color: #800080\"> 'terrestrial-marten'</span> - Created task run 'validate_mean-0' for task 'validate_mean'\n",
       "</pre>\n"
      ],
      "text/plain": [
       "01:40:34.955 | \u001b[36mINFO\u001b[0m    | Flow run\u001b[35m 'terrestrial-marten'\u001b[0m - Created task run 'validate_mean-0' for task 'validate_mean'\n"
      ]
     },
     "metadata": {},
     "output_type": "display_data"
    },
    {
     "data": {
      "text/html": [
       "<pre style=\"white-space:pre;overflow-x:auto;line-height:normal;font-family:Menlo,'DejaVu Sans Mono',consolas,'Courier New',monospace\">01:40:34.957 | <span style=\"color: #008080; text-decoration-color: #008080\">INFO</span>    | Flow run<span style=\"color: #800080; text-decoration-color: #800080\"> 'terrestrial-marten'</span> - Executing 'validate_mean-0' immediately...\n",
       "</pre>\n"
      ],
      "text/plain": [
       "01:40:34.957 | \u001b[36mINFO\u001b[0m    | Flow run\u001b[35m 'terrestrial-marten'\u001b[0m - Executing 'validate_mean-0' immediately...\n"
      ]
     },
     "metadata": {},
     "output_type": "display_data"
    },
    {
     "data": {
      "text/html": [
       "<pre style=\"white-space:pre;overflow-x:auto;line-height:normal;font-family:Menlo,'DejaVu Sans Mono',consolas,'Courier New',monospace\">01:40:36.637 | <span style=\"color: #008080; text-decoration-color: #008080\">INFO</span>    | Task run 'validate_mean-0' - Finished in state <span style=\"color: #008000; text-decoration-color: #008000\">Completed</span>()\n",
       "</pre>\n"
      ],
      "text/plain": [
       "01:40:36.637 | \u001b[36mINFO\u001b[0m    | Task run 'validate_mean-0' - Finished in state \u001b[32mCompleted\u001b[0m()\n"
      ]
     },
     "metadata": {},
     "output_type": "display_data"
    },
    {
     "data": {
      "text/html": [
       "<pre style=\"white-space:pre;overflow-x:auto;line-height:normal;font-family:Menlo,'DejaVu Sans Mono',consolas,'Courier New',monospace\">01:40:37.489 | <span style=\"color: #008080; text-decoration-color: #008080\">INFO</span>    | Flow run<span style=\"color: #800080; text-decoration-color: #800080\"> 'terrestrial-marten'</span> - Created task run 'validate_mean-1' for task 'validate_mean'\n",
       "</pre>\n"
      ],
      "text/plain": [
       "01:40:37.489 | \u001b[36mINFO\u001b[0m    | Flow run\u001b[35m 'terrestrial-marten'\u001b[0m - Created task run 'validate_mean-1' for task 'validate_mean'\n"
      ]
     },
     "metadata": {},
     "output_type": "display_data"
    },
    {
     "data": {
      "text/html": [
       "<pre style=\"white-space:pre;overflow-x:auto;line-height:normal;font-family:Menlo,'DejaVu Sans Mono',consolas,'Courier New',monospace\">01:40:37.491 | <span style=\"color: #008080; text-decoration-color: #008080\">INFO</span>    | Flow run<span style=\"color: #800080; text-decoration-color: #800080\"> 'terrestrial-marten'</span> - Executing 'validate_mean-1' immediately...\n",
       "</pre>\n"
      ],
      "text/plain": [
       "01:40:37.491 | \u001b[36mINFO\u001b[0m    | Flow run\u001b[35m 'terrestrial-marten'\u001b[0m - Executing 'validate_mean-1' immediately...\n"
      ]
     },
     "metadata": {},
     "output_type": "display_data"
    },
    {
     "data": {
      "text/html": [
       "<pre style=\"white-space:pre;overflow-x:auto;line-height:normal;font-family:Menlo,'DejaVu Sans Mono',consolas,'Courier New',monospace\">01:40:39.285 | <span style=\"color: #008080; text-decoration-color: #008080\">INFO</span>    | Task run 'validate_mean-1' - Finished in state <span style=\"color: #008000; text-decoration-color: #008000\">Completed</span>()\n",
       "</pre>\n"
      ],
      "text/plain": [
       "01:40:39.285 | \u001b[36mINFO\u001b[0m    | Task run 'validate_mean-1' - Finished in state \u001b[32mCompleted\u001b[0m()\n"
      ]
     },
     "metadata": {},
     "output_type": "display_data"
    },
    {
     "data": {
      "text/html": [
       "<pre style=\"white-space:pre;overflow-x:auto;line-height:normal;font-family:Menlo,'DejaVu Sans Mono',consolas,'Courier New',monospace\">01:40:39.624 | <span style=\"color: #008080; text-decoration-color: #008080\">INFO</span>    | Flow run<span style=\"color: #800080; text-decoration-color: #800080\"> 'terrestrial-marten'</span> - El número es 43.8\n",
       "</pre>\n"
      ],
      "text/plain": [
       "01:40:39.624 | \u001b[36mINFO\u001b[0m    | Flow run\u001b[35m 'terrestrial-marten'\u001b[0m - El número es 43.8\n"
      ]
     },
     "metadata": {},
     "output_type": "display_data"
    },
    {
     "data": {
      "text/html": [
       "<pre style=\"white-space:pre;overflow-x:auto;line-height:normal;font-family:Menlo,'DejaVu Sans Mono',consolas,'Courier New',monospace\">01:40:39.797 | <span style=\"color: #008080; text-decoration-color: #008080\">INFO</span>    | Flow run<span style=\"color: #800080; text-decoration-color: #800080\"> 'terrestrial-marten'</span> - Finished in state <span style=\"color: #008000; text-decoration-color: #008000\">Completed</span>('All states completed.')\n",
       "</pre>\n"
      ],
      "text/plain": [
       "01:40:39.797 | \u001b[36mINFO\u001b[0m    | Flow run\u001b[35m 'terrestrial-marten'\u001b[0m - Finished in state \u001b[32mCompleted\u001b[0m('All states completed.')\n"
      ]
     },
     "metadata": {},
     "output_type": "display_data"
    },
    {
     "data": {
      "text/plain": [
       "[Completed(message=None, type=COMPLETED, result=PersistedResult(type='reference', artifact_type='result', artifact_description='Result of type `float64` persisted to: `C:\\\\Users\\\\Mich2020\\\\.prefect\\\\storage\\\\a46e9ded00ea475f94f84906cb79b577`', serializer_type='pickle', storage_block_id=UUID('ac4a20fe-820c-443b-9f2d-1f46dbaea089'), storage_key='a46e9ded00ea475f94f84906cb79b577')),\n",
       " Completed(message=None, type=COMPLETED, result=PersistedResult(type='reference', artifact_type='result', artifact_description='Result of type `float64` persisted to: `C:\\\\Users\\\\Mich2020\\\\.prefect\\\\storage\\\\021987e193e6491fb79ecc7510887c56`', serializer_type='pickle', storage_block_id=UUID('ac4a20fe-820c-443b-9f2d-1f46dbaea089'), storage_key='021987e193e6491fb79ecc7510887c56'))]"
      ]
     },
     "execution_count": 29,
     "metadata": {},
     "output_type": "execute_result"
    }
   ],
   "source": [
    "np.random.seed(42)\n",
    "\n",
    "@task()\n",
    "def validate_mean(num: float):\n",
    "    if num > 10:\n",
    "        print(\"valor mayor que 10\")\n",
    "    num = np.random.randint(0, 100, 10).mean()\n",
    "    return num\n",
    "\n",
    "@flow(retries=3, retry_delay_seconds=5, log_prints=True)\n",
    "def get_repo_mean(repo_name: str = \"PrefectHQ/prefect\"):\n",
    "    print(\"Iniciando un flujo de trabajo\")\n",
    "    num = validate_mean(5)\n",
    "    num = validate_mean(10)\n",
    "    print(f\"El número es {num}\")\n",
    "\n",
    "get_repo_mean()"
   ]
  },
  {
   "cell_type": "code",
   "execution_count": 26,
   "metadata": {},
   "outputs": [
    {
     "name": "stderr",
     "output_type": "stream",
     "text": [
      "c:\\Users\\Mich2020\\Anaconda3\\envs\\ETLSpoty\\Lib\\site-packages\\prefect\\tasks.py:339: UserWarning: A task named 'validate_mean' and defined at 'C:\\Users\\Mich2020\\AppData\\Local\\Temp\\ipykernel_43284\\4002725913.py:3' conflicts with another task. Consider specifying a unique `name` parameter in the task definition:\n",
      "\n",
      " `@task(name='my_unique_name', ...)`\n",
      "  warnings.warn(\n",
      "c:\\Users\\Mich2020\\Anaconda3\\envs\\ETLSpoty\\Lib\\site-packages\\prefect\\flows.py:343: UserWarning: A flow named 'get-repo-mean' and defined at 'C:\\Users\\Mich2020\\AppData\\Local\\Temp\\ipykernel_43284\\4002725913.py:9' conflicts with another flow. Consider specifying a unique `name` parameter in the flow definition:\n",
      "\n",
      " `@flow(name='my_unique_name', ...)`\n",
      "  warnings.warn(\n"
     ]
    },
    {
     "data": {
      "text/html": [
       "<pre style=\"white-space:pre;overflow-x:auto;line-height:normal;font-family:Menlo,'DejaVu Sans Mono',consolas,'Courier New',monospace\">01:37:14.098 | <span style=\"color: #008080; text-decoration-color: #008080\">INFO</span>    | prefect.engine - Created flow run<span style=\"color: #800080; text-decoration-color: #800080\"> 'sociable-antelope'</span> for flow<span style=\"color: #800080; text-decoration-color: #800080; font-weight: bold\"> 'get-repo-mean'</span>\n",
       "</pre>\n"
      ],
      "text/plain": [
       "01:37:14.098 | \u001b[36mINFO\u001b[0m    | prefect.engine - Created flow run\u001b[35m 'sociable-antelope'\u001b[0m for flow\u001b[1;35m 'get-repo-mean'\u001b[0m\n"
      ]
     },
     "metadata": {},
     "output_type": "display_data"
    },
    {
     "data": {
      "text/html": [
       "<pre style=\"white-space:pre;overflow-x:auto;line-height:normal;font-family:Menlo,'DejaVu Sans Mono',consolas,'Courier New',monospace\">01:37:14.101 | <span style=\"color: #008080; text-decoration-color: #008080\">INFO</span>    | Flow run<span style=\"color: #800080; text-decoration-color: #800080\"> 'sociable-antelope'</span> - View at <span style=\"color: #0000ff; text-decoration-color: #0000ff\">https://app.prefect.cloud/account/12f914c1-6641-4886-b1fc-1a3d16bfdeed/workspace/4cc5a521-4d87-4d10-b1f2-383e1c72fb5c/flow-runs/flow-run/f50e83ba-e524-4211-9d82-7c184023a653</span>\n",
       "</pre>\n"
      ],
      "text/plain": [
       "01:37:14.101 | \u001b[36mINFO\u001b[0m    | Flow run\u001b[35m 'sociable-antelope'\u001b[0m - View at \u001b[94mhttps://app.prefect.cloud/account/12f914c1-6641-4886-b1fc-1a3d16bfdeed/workspace/4cc5a521-4d87-4d10-b1f2-383e1c72fb5c/flow-runs/flow-run/f50e83ba-e524-4211-9d82-7c184023a653\u001b[0m\n"
      ]
     },
     "metadata": {},
     "output_type": "display_data"
    },
    {
     "data": {
      "text/html": [
       "<pre style=\"white-space:pre;overflow-x:auto;line-height:normal;font-family:Menlo,'DejaVu Sans Mono',consolas,'Courier New',monospace\">01:37:14.344 | <span style=\"color: #008080; text-decoration-color: #008080\">INFO</span>    | Flow run<span style=\"color: #800080; text-decoration-color: #800080\"> 'sociable-antelope'</span> - Iniciando un flujo de trabajo\n",
       "</pre>\n"
      ],
      "text/plain": [
       "01:37:14.344 | \u001b[36mINFO\u001b[0m    | Flow run\u001b[35m 'sociable-antelope'\u001b[0m - Iniciando un flujo de trabajo\n"
      ]
     },
     "metadata": {},
     "output_type": "display_data"
    },
    {
     "data": {
      "text/html": [
       "<pre style=\"white-space:pre;overflow-x:auto;line-height:normal;font-family:Menlo,'DejaVu Sans Mono',consolas,'Courier New',monospace\">01:37:14.830 | <span style=\"color: #008080; text-decoration-color: #008080\">INFO</span>    | Flow run<span style=\"color: #800080; text-decoration-color: #800080\"> 'sociable-antelope'</span> - Created task run 'validate_mean-0' for task 'validate_mean'\n",
       "</pre>\n"
      ],
      "text/plain": [
       "01:37:14.830 | \u001b[36mINFO\u001b[0m    | Flow run\u001b[35m 'sociable-antelope'\u001b[0m - Created task run 'validate_mean-0' for task 'validate_mean'\n"
      ]
     },
     "metadata": {},
     "output_type": "display_data"
    },
    {
     "data": {
      "text/html": [
       "<pre style=\"white-space:pre;overflow-x:auto;line-height:normal;font-family:Menlo,'DejaVu Sans Mono',consolas,'Courier New',monospace\">01:37:14.832 | <span style=\"color: #008080; text-decoration-color: #008080\">INFO</span>    | Flow run<span style=\"color: #800080; text-decoration-color: #800080\"> 'sociable-antelope'</span> - Executing 'validate_mean-0' immediately...\n",
       "</pre>\n"
      ],
      "text/plain": [
       "01:37:14.832 | \u001b[36mINFO\u001b[0m    | Flow run\u001b[35m 'sociable-antelope'\u001b[0m - Executing 'validate_mean-0' immediately...\n"
      ]
     },
     "metadata": {},
     "output_type": "display_data"
    },
    {
     "data": {
      "text/html": [
       "<pre style=\"white-space:pre;overflow-x:auto;line-height:normal;font-family:Menlo,'DejaVu Sans Mono',consolas,'Courier New',monospace\">01:37:15.738 | <span style=\"color: #d70000; text-decoration-color: #d70000\">ERROR</span>   | Task run 'validate_mean-0' - Encountered exception during execution:\n",
       "Traceback (most recent call last):\n",
       "  File \"c:\\Users\\Mich2020\\Anaconda3\\envs\\ETLSpoty\\Lib\\site-packages\\prefect\\engine.py\", line 2108, in orchestrate_task_run\n",
       "    result = await call.aresult()\n",
       "             ^^^^^^^^^^^^^^^^^^^^\n",
       "  File \"c:\\Users\\Mich2020\\Anaconda3\\envs\\ETLSpoty\\Lib\\site-packages\\prefect\\_internal\\concurrency\\calls.py\", line 326, in aresult\n",
       "    return await asyncio.wrap_future(self.future)\n",
       "           ^^^^^^^^^^^^^^^^^^^^^^^^^^^^^^^^^^^^^^\n",
       "  File \"c:\\Users\\Mich2020\\Anaconda3\\envs\\ETLSpoty\\Lib\\site-packages\\prefect\\_internal\\concurrency\\calls.py\", line 351, in _run_sync\n",
       "    result = self.fn(*self.args, **self.kwargs)\n",
       "             ^^^^^^^^^^^^^^^^^^^^^^^^^^^^^^^^^^\n",
       "  File \"C:\\Users\\Mich2020\\AppData\\Local\\Temp\\ipykernel_43284\\4002725913.py\", line 6, in validate_mean\n",
       "    raise ValueError(\"El número es mayor que 50\")\n",
       "ValueError: El número es mayor que 50\n",
       "</pre>\n"
      ],
      "text/plain": [
       "01:37:15.738 | \u001b[38;5;160mERROR\u001b[0m   | Task run 'validate_mean-0' - Encountered exception during execution:\n",
       "Traceback (most recent call last):\n",
       "  File \"c:\\Users\\Mich2020\\Anaconda3\\envs\\ETLSpoty\\Lib\\site-packages\\prefect\\engine.py\", line 2108, in orchestrate_task_run\n",
       "    result = await call.aresult()\n",
       "             ^^^^^^^^^^^^^^^^^^^^\n",
       "  File \"c:\\Users\\Mich2020\\Anaconda3\\envs\\ETLSpoty\\Lib\\site-packages\\prefect\\_internal\\concurrency\\calls.py\", line 326, in aresult\n",
       "    return await asyncio.wrap_future(self.future)\n",
       "           ^^^^^^^^^^^^^^^^^^^^^^^^^^^^^^^^^^^^^^\n",
       "  File \"c:\\Users\\Mich2020\\Anaconda3\\envs\\ETLSpoty\\Lib\\site-packages\\prefect\\_internal\\concurrency\\calls.py\", line 351, in _run_sync\n",
       "    result = self.fn(*self.args, **self.kwargs)\n",
       "             ^^^^^^^^^^^^^^^^^^^^^^^^^^^^^^^^^^\n",
       "  File \"C:\\Users\\Mich2020\\AppData\\Local\\Temp\\ipykernel_43284\\4002725913.py\", line 6, in validate_mean\n",
       "    raise ValueError(\"El número es mayor que 50\")\n",
       "ValueError: El número es mayor que 50\n"
      ]
     },
     "metadata": {},
     "output_type": "display_data"
    },
    {
     "data": {
      "text/html": [
       "<pre style=\"white-space:pre;overflow-x:auto;line-height:normal;font-family:Menlo,'DejaVu Sans Mono',consolas,'Courier New',monospace\">01:37:16.493 | <span style=\"color: #d70000; text-decoration-color: #d70000\">ERROR</span>   | Task run 'validate_mean-0' - Finished in state <span style=\"color: #d70000; text-decoration-color: #d70000\">Failed</span>('Task run encountered an exception ValueError: El número es mayor que 50')\n",
       "</pre>\n"
      ],
      "text/plain": [
       "01:37:16.493 | \u001b[38;5;160mERROR\u001b[0m   | Task run 'validate_mean-0' - Finished in state \u001b[38;5;160mFailed\u001b[0m('Task run encountered an exception ValueError: El número es mayor que 50')\n"
      ]
     },
     "metadata": {},
     "output_type": "display_data"
    },
    {
     "data": {
      "text/html": [
       "<pre style=\"white-space:pre;overflow-x:auto;line-height:normal;font-family:Menlo,'DejaVu Sans Mono',consolas,'Courier New',monospace\">01:37:16.497 | <span style=\"color: #008080; text-decoration-color: #008080\">INFO</span>    | Flow run<span style=\"color: #800080; text-decoration-color: #800080\"> 'sociable-antelope'</span> - Oh no! The task failed.\n",
       "</pre>\n"
      ],
      "text/plain": [
       "01:37:16.497 | \u001b[36mINFO\u001b[0m    | Flow run\u001b[35m 'sociable-antelope'\u001b[0m - Oh no! The task failed.\n"
      ]
     },
     "metadata": {},
     "output_type": "display_data"
    },
    {
     "data": {
      "text/html": [
       "<pre style=\"white-space:pre;overflow-x:auto;line-height:normal;font-family:Menlo,'DejaVu Sans Mono',consolas,'Courier New',monospace\">01:37:16.499 | <span style=\"color: #008080; text-decoration-color: #008080\">INFO</span>    | Flow run<span style=\"color: #800080; text-decoration-color: #800080\"> 'sociable-antelope'</span> - El número es 62.4\n",
       "</pre>\n"
      ],
      "text/plain": [
       "01:37:16.499 | \u001b[36mINFO\u001b[0m    | Flow run\u001b[35m 'sociable-antelope'\u001b[0m - El número es 62.4\n"
      ]
     },
     "metadata": {},
     "output_type": "display_data"
    },
    {
     "data": {
      "text/html": [
       "<pre style=\"white-space:pre;overflow-x:auto;line-height:normal;font-family:Menlo,'DejaVu Sans Mono',consolas,'Courier New',monospace\">01:37:16.994 | <span style=\"color: #008080; text-decoration-color: #008080\">INFO</span>    | Flow run<span style=\"color: #800080; text-decoration-color: #800080\"> 'sociable-antelope'</span> - Received non-final state 'AwaitingRetry' when proposing final state '<span style=\"color: #d70000; text-decoration-color: #d70000\">Failed</span>' and will attempt to run again...\n",
       "</pre>\n"
      ],
      "text/plain": [
       "01:37:16.994 | \u001b[36mINFO\u001b[0m    | Flow run\u001b[35m 'sociable-antelope'\u001b[0m - Received non-final state 'AwaitingRetry' when proposing final state '\u001b[38;5;160mFailed\u001b[0m' and will attempt to run again...\n"
      ]
     },
     "metadata": {},
     "output_type": "display_data"
    },
    {
     "data": {
      "text/html": [
       "<pre style=\"white-space:pre;overflow-x:auto;line-height:normal;font-family:Menlo,'DejaVu Sans Mono',consolas,'Courier New',monospace\">01:37:22.379 | <span style=\"color: #008080; text-decoration-color: #008080\">INFO</span>    | Flow run<span style=\"color: #800080; text-decoration-color: #800080\"> 'sociable-antelope'</span> - Iniciando un flujo de trabajo\n",
       "</pre>\n"
      ],
      "text/plain": [
       "01:37:22.379 | \u001b[36mINFO\u001b[0m    | Flow run\u001b[35m 'sociable-antelope'\u001b[0m - Iniciando un flujo de trabajo\n"
      ]
     },
     "metadata": {},
     "output_type": "display_data"
    },
    {
     "data": {
      "text/html": [
       "<pre style=\"white-space:pre;overflow-x:auto;line-height:normal;font-family:Menlo,'DejaVu Sans Mono',consolas,'Courier New',monospace\">01:37:22.501 | <span style=\"color: #008080; text-decoration-color: #008080\">INFO</span>    | Flow run<span style=\"color: #800080; text-decoration-color: #800080\"> 'sociable-antelope'</span> - Created task run 'validate_mean-0' for task 'validate_mean'\n",
       "</pre>\n"
      ],
      "text/plain": [
       "01:37:22.501 | \u001b[36mINFO\u001b[0m    | Flow run\u001b[35m 'sociable-antelope'\u001b[0m - Created task run 'validate_mean-0' for task 'validate_mean'\n"
      ]
     },
     "metadata": {},
     "output_type": "display_data"
    },
    {
     "data": {
      "text/html": [
       "<pre style=\"white-space:pre;overflow-x:auto;line-height:normal;font-family:Menlo,'DejaVu Sans Mono',consolas,'Courier New',monospace\">01:37:22.503 | <span style=\"color: #008080; text-decoration-color: #008080\">INFO</span>    | Flow run<span style=\"color: #800080; text-decoration-color: #800080\"> 'sociable-antelope'</span> - Executing 'validate_mean-0' immediately...\n",
       "</pre>\n"
      ],
      "text/plain": [
       "01:37:22.503 | \u001b[36mINFO\u001b[0m    | Flow run\u001b[35m 'sociable-antelope'\u001b[0m - Executing 'validate_mean-0' immediately...\n"
      ]
     },
     "metadata": {},
     "output_type": "display_data"
    },
    {
     "data": {
      "text/html": [
       "<pre style=\"white-space:pre;overflow-x:auto;line-height:normal;font-family:Menlo,'DejaVu Sans Mono',consolas,'Courier New',monospace\">01:37:23.603 | <span style=\"color: #008080; text-decoration-color: #008080\">INFO</span>    | Task run 'validate_mean-0' - Finished in state <span style=\"color: #008000; text-decoration-color: #008000\">Completed</span>()\n",
       "</pre>\n"
      ],
      "text/plain": [
       "01:37:23.603 | \u001b[36mINFO\u001b[0m    | Task run 'validate_mean-0' - Finished in state \u001b[32mCompleted\u001b[0m()\n"
      ]
     },
     "metadata": {},
     "output_type": "display_data"
    },
    {
     "data": {
      "text/html": [
       "<pre style=\"white-space:pre;overflow-x:auto;line-height:normal;font-family:Menlo,'DejaVu Sans Mono',consolas,'Courier New',monospace\">01:37:23.944 | <span style=\"color: #008080; text-decoration-color: #008080\">INFO</span>    | Flow run<span style=\"color: #800080; text-decoration-color: #800080\"> 'sociable-antelope'</span> - El número es 43.8\n",
       "</pre>\n"
      ],
      "text/plain": [
       "01:37:23.944 | \u001b[36mINFO\u001b[0m    | Flow run\u001b[35m 'sociable-antelope'\u001b[0m - El número es 43.8\n"
      ]
     },
     "metadata": {},
     "output_type": "display_data"
    },
    {
     "data": {
      "text/html": [
       "<pre style=\"white-space:pre;overflow-x:auto;line-height:normal;font-family:Menlo,'DejaVu Sans Mono',consolas,'Courier New',monospace\">01:37:24.091 | <span style=\"color: #008080; text-decoration-color: #008080\">INFO</span>    | Flow run<span style=\"color: #800080; text-decoration-color: #800080\"> 'sociable-antelope'</span> - Finished in state <span style=\"color: #008000; text-decoration-color: #008000\">Completed</span>('All states completed.')\n",
       "</pre>\n"
      ],
      "text/plain": [
       "01:37:24.091 | \u001b[36mINFO\u001b[0m    | Flow run\u001b[35m 'sociable-antelope'\u001b[0m - Finished in state \u001b[32mCompleted\u001b[0m('All states completed.')\n"
      ]
     },
     "metadata": {},
     "output_type": "display_data"
    },
    {
     "data": {
      "text/plain": [
       "[Completed(message=None, type=COMPLETED, result=PersistedResult(type='reference', artifact_type='result', artifact_description='Result of type `float64` persisted to: `C:\\\\Users\\\\Mich2020\\\\.prefect\\\\storage\\\\6590e19ceb734c3c8b631cc5f17cea6e`', serializer_type='pickle', storage_block_id=UUID('b5f07b34-ce77-4add-9705-7e4ee7889680'), storage_key='6590e19ceb734c3c8b631cc5f17cea6e'))]"
      ]
     },
     "execution_count": 26,
     "metadata": {},
     "output_type": "execute_result"
    }
   ],
   "source": [
    "np.random.seed(42)\n",
    "\n",
    "@task()\n",
    "def validate_mean(num: float):\n",
    "    if num > 50:\n",
    "        raise ValueError(\"El número es mayor que 50\")\n",
    "    return num\n",
    "\n",
    "@flow(retries=3, retry_delay_seconds=5, log_prints=True)\n",
    "def get_repo_mean(repo_name: str = \"PrefectHQ/prefect\"):\n",
    "    print(\"Iniciando un flujo de trabajo\")\n",
    "    num = np.random.randint(0, 100, 10).mean()\n",
    "    \n",
    "    try:\n",
    "        validate_mean(num)\n",
    "    except ValueError as exc:\n",
    "        print(\"Oh no! The task failed.\")\n",
    "        #raise ValueError(f\"El número es mayor que 50: {exc}\")\n",
    "    \n",
    "    print(f\"El número es {num}\")\n",
    "    \n",
    "    \n",
    "\n",
    "get_repo_mean()\n"
   ]
  },
  {
   "cell_type": "code",
   "execution_count": null,
   "metadata": {},
   "outputs": [],
   "source": []
  },
  {
   "cell_type": "markdown",
   "metadata": {},
   "source": [
    "# States\n",
    "\n",
    "States are rich objects that contain information about the status of a particular task run or flow run. While you don't need to know the details of the states to use Prefect, you can give your workflows superpowers by taking advantage of it.\n",
    "\n",
    "https://docs.prefect.io/latest/concepts/states/\n"
   ]
  },
  {
   "cell_type": "markdown",
   "metadata": {},
   "source": [
    "Return Data\n",
    "\n",
    "By default, running a task will return data:"
   ]
  },
  {
   "cell_type": "code",
   "execution_count": 32,
   "metadata": {},
   "outputs": [
    {
     "name": "stderr",
     "output_type": "stream",
     "text": [
      "c:\\Users\\Mich2020\\Anaconda3\\envs\\ETLSpoty\\Lib\\site-packages\\prefect\\tasks.py:339: UserWarning: A task named 'add_one' and defined at 'C:\\Users\\Mich2020\\AppData\\Local\\Temp\\ipykernel_43284\\1053126486.py:1' conflicts with another task. Consider specifying a unique `name` parameter in the task definition:\n",
      "\n",
      " `@task(name='my_unique_name', ...)`\n",
      "  warnings.warn(\n",
      "c:\\Users\\Mich2020\\Anaconda3\\envs\\ETLSpoty\\Lib\\site-packages\\prefect\\flows.py:343: UserWarning: A flow named 'my-flow' and defined at 'C:\\Users\\Mich2020\\AppData\\Local\\Temp\\ipykernel_43284\\1053126486.py:5' conflicts with another flow. Consider specifying a unique `name` parameter in the flow definition:\n",
      "\n",
      " `@flow(name='my_unique_name', ...)`\n",
      "  warnings.warn(\n"
     ]
    },
    {
     "data": {
      "text/html": [
       "<pre style=\"white-space:pre;overflow-x:auto;line-height:normal;font-family:Menlo,'DejaVu Sans Mono',consolas,'Courier New',monospace\">01:48:05.868 | <span style=\"color: #008080; text-decoration-color: #008080\">INFO</span>    | prefect.engine - Created flow run<span style=\"color: #800080; text-decoration-color: #800080\"> 'fierce-hound'</span> for flow<span style=\"color: #800080; text-decoration-color: #800080; font-weight: bold\"> 'my-flow'</span>\n",
       "</pre>\n"
      ],
      "text/plain": [
       "01:48:05.868 | \u001b[36mINFO\u001b[0m    | prefect.engine - Created flow run\u001b[35m 'fierce-hound'\u001b[0m for flow\u001b[1;35m 'my-flow'\u001b[0m\n"
      ]
     },
     "metadata": {},
     "output_type": "display_data"
    },
    {
     "data": {
      "text/html": [
       "<pre style=\"white-space:pre;overflow-x:auto;line-height:normal;font-family:Menlo,'DejaVu Sans Mono',consolas,'Courier New',monospace\">01:48:05.870 | <span style=\"color: #008080; text-decoration-color: #008080\">INFO</span>    | Flow run<span style=\"color: #800080; text-decoration-color: #800080\"> 'fierce-hound'</span> - View at <span style=\"color: #0000ff; text-decoration-color: #0000ff\">https://app.prefect.cloud/account/12f914c1-6641-4886-b1fc-1a3d16bfdeed/workspace/4cc5a521-4d87-4d10-b1f2-383e1c72fb5c/flow-runs/flow-run/ea121f04-5061-4a6a-a969-b9700a8652a0</span>\n",
       "</pre>\n"
      ],
      "text/plain": [
       "01:48:05.870 | \u001b[36mINFO\u001b[0m    | Flow run\u001b[35m 'fierce-hound'\u001b[0m - View at \u001b[94mhttps://app.prefect.cloud/account/12f914c1-6641-4886-b1fc-1a3d16bfdeed/workspace/4cc5a521-4d87-4d10-b1f2-383e1c72fb5c/flow-runs/flow-run/ea121f04-5061-4a6a-a969-b9700a8652a0\u001b[0m\n"
      ]
     },
     "metadata": {},
     "output_type": "display_data"
    },
    {
     "data": {
      "text/html": [
       "<pre style=\"white-space:pre;overflow-x:auto;line-height:normal;font-family:Menlo,'DejaVu Sans Mono',consolas,'Courier New',monospace\">01:48:06.103 | <span style=\"color: #008080; text-decoration-color: #008080\">INFO</span>    | Flow run<span style=\"color: #800080; text-decoration-color: #800080\"> 'fierce-hound'</span> - Iniciando  my_flow\n",
       "</pre>\n"
      ],
      "text/plain": [
       "01:48:06.103 | \u001b[36mINFO\u001b[0m    | Flow run\u001b[35m 'fierce-hound'\u001b[0m - Iniciando  my_flow\n"
      ]
     },
     "metadata": {},
     "output_type": "display_data"
    },
    {
     "data": {
      "text/html": [
       "<pre style=\"white-space:pre;overflow-x:auto;line-height:normal;font-family:Menlo,'DejaVu Sans Mono',consolas,'Courier New',monospace\">01:48:06.566 | <span style=\"color: #008080; text-decoration-color: #008080\">INFO</span>    | Flow run<span style=\"color: #800080; text-decoration-color: #800080\"> 'fierce-hound'</span> - Created task run 'add_one-0' for task 'add_one'\n",
       "</pre>\n"
      ],
      "text/plain": [
       "01:48:06.566 | \u001b[36mINFO\u001b[0m    | Flow run\u001b[35m 'fierce-hound'\u001b[0m - Created task run 'add_one-0' for task 'add_one'\n"
      ]
     },
     "metadata": {},
     "output_type": "display_data"
    },
    {
     "data": {
      "text/html": [
       "<pre style=\"white-space:pre;overflow-x:auto;line-height:normal;font-family:Menlo,'DejaVu Sans Mono',consolas,'Courier New',monospace\">01:48:06.567 | <span style=\"color: #008080; text-decoration-color: #008080\">INFO</span>    | Flow run<span style=\"color: #800080; text-decoration-color: #800080\"> 'fierce-hound'</span> - Executing 'add_one-0' immediately...\n",
       "</pre>\n"
      ],
      "text/plain": [
       "01:48:06.567 | \u001b[36mINFO\u001b[0m    | Flow run\u001b[35m 'fierce-hound'\u001b[0m - Executing 'add_one-0' immediately...\n"
      ]
     },
     "metadata": {},
     "output_type": "display_data"
    },
    {
     "data": {
      "text/html": [
       "<pre style=\"white-space:pre;overflow-x:auto;line-height:normal;font-family:Menlo,'DejaVu Sans Mono',consolas,'Courier New',monospace\">01:48:07.847 | <span style=\"color: #008080; text-decoration-color: #008080\">INFO</span>    | Task run 'add_one-0' - Finished in state <span style=\"color: #008000; text-decoration-color: #008000\">Completed</span>()\n",
       "</pre>\n"
      ],
      "text/plain": [
       "01:48:07.847 | \u001b[36mINFO\u001b[0m    | Task run 'add_one-0' - Finished in state \u001b[32mCompleted\u001b[0m()\n"
      ]
     },
     "metadata": {},
     "output_type": "display_data"
    },
    {
     "data": {
      "text/html": [
       "<pre style=\"white-space:pre;overflow-x:auto;line-height:normal;font-family:Menlo,'DejaVu Sans Mono',consolas,'Courier New',monospace\">01:48:07.852 | <span style=\"color: #008080; text-decoration-color: #008080\">INFO</span>    | Flow run<span style=\"color: #800080; text-decoration-color: #800080\"> 'fierce-hound'</span> - Resultado de add_one: 2\n",
       "</pre>\n"
      ],
      "text/plain": [
       "01:48:07.852 | \u001b[36mINFO\u001b[0m    | Flow run\u001b[35m 'fierce-hound'\u001b[0m - Resultado de add_one: 2\n"
      ]
     },
     "metadata": {},
     "output_type": "display_data"
    },
    {
     "data": {
      "text/html": [
       "<pre style=\"white-space:pre;overflow-x:auto;line-height:normal;font-family:Menlo,'DejaVu Sans Mono',consolas,'Courier New',monospace\">01:48:07.854 | <span style=\"color: #008080; text-decoration-color: #008080\">INFO</span>    | Flow run<span style=\"color: #800080; text-decoration-color: #800080\"> 'fierce-hound'</span> - fin de my_flow\n",
       "</pre>\n"
      ],
      "text/plain": [
       "01:48:07.854 | \u001b[36mINFO\u001b[0m    | Flow run\u001b[35m 'fierce-hound'\u001b[0m - fin de my_flow\n"
      ]
     },
     "metadata": {},
     "output_type": "display_data"
    },
    {
     "data": {
      "text/html": [
       "<pre style=\"white-space:pre;overflow-x:auto;line-height:normal;font-family:Menlo,'DejaVu Sans Mono',consolas,'Courier New',monospace\">01:48:08.373 | <span style=\"color: #008080; text-decoration-color: #008080\">INFO</span>    | Flow run<span style=\"color: #800080; text-decoration-color: #800080\"> 'fierce-hound'</span> - Finished in state <span style=\"color: #008000; text-decoration-color: #008000\">Completed</span>('All states completed.')\n",
       "</pre>\n"
      ],
      "text/plain": [
       "01:48:08.373 | \u001b[36mINFO\u001b[0m    | Flow run\u001b[35m 'fierce-hound'\u001b[0m - Finished in state \u001b[32mCompleted\u001b[0m('All states completed.')\n"
      ]
     },
     "metadata": {},
     "output_type": "display_data"
    },
    {
     "data": {
      "text/plain": [
       "[Completed(message=None, type=COMPLETED, result=UnpersistedResult(type='unpersisted', artifact_type='result', artifact_description='Unpersisted result of type `int`'))]"
      ]
     },
     "execution_count": 32,
     "metadata": {},
     "output_type": "execute_result"
    }
   ],
   "source": [
    "@task \n",
    "def add_one(x):\n",
    "    return x + 1\n",
    "\n",
    "@flow(log_prints=True) \n",
    "def my_flow():\n",
    "    print(\"Iniciando  my_flow\")\n",
    "    \n",
    "    result = add_one(1) # return int\n",
    "    print(f\"Resultado de add_one: {result}\")\n",
    "    print(\"fin de my_flow\")\n",
    "    \n",
    "my_flow()"
   ]
  },
  {
   "cell_type": "markdown",
   "metadata": {},
   "source": [
    "The same rule applies for a subflow:"
   ]
  },
  {
   "cell_type": "code",
   "execution_count": 33,
   "metadata": {},
   "outputs": [
    {
     "name": "stderr",
     "output_type": "stream",
     "text": [
      "c:\\Users\\Mich2020\\Anaconda3\\envs\\ETLSpoty\\Lib\\site-packages\\prefect\\flows.py:343: UserWarning: A flow named 'my-flow' and defined at 'C:\\Users\\Mich2020\\AppData\\Local\\Temp\\ipykernel_43284\\3520415614.py:5' conflicts with another flow. Consider specifying a unique `name` parameter in the flow definition:\n",
      "\n",
      " `@flow(name='my_unique_name', ...)`\n",
      "  warnings.warn(\n"
     ]
    },
    {
     "data": {
      "text/html": [
       "<pre style=\"white-space:pre;overflow-x:auto;line-height:normal;font-family:Menlo,'DejaVu Sans Mono',consolas,'Courier New',monospace\">01:49:04.172 | <span style=\"color: #008080; text-decoration-color: #008080\">INFO</span>    | prefect.engine - Created flow run<span style=\"color: #800080; text-decoration-color: #800080\"> 'hypersonic-chinchilla'</span> for flow<span style=\"color: #800080; text-decoration-color: #800080; font-weight: bold\"> 'my-flow'</span>\n",
       "</pre>\n"
      ],
      "text/plain": [
       "01:49:04.172 | \u001b[36mINFO\u001b[0m    | prefect.engine - Created flow run\u001b[35m 'hypersonic-chinchilla'\u001b[0m for flow\u001b[1;35m 'my-flow'\u001b[0m\n"
      ]
     },
     "metadata": {},
     "output_type": "display_data"
    },
    {
     "data": {
      "text/html": [
       "<pre style=\"white-space:pre;overflow-x:auto;line-height:normal;font-family:Menlo,'DejaVu Sans Mono',consolas,'Courier New',monospace\">01:49:04.174 | <span style=\"color: #008080; text-decoration-color: #008080\">INFO</span>    | Flow run<span style=\"color: #800080; text-decoration-color: #800080\"> 'hypersonic-chinchilla'</span> - View at <span style=\"color: #0000ff; text-decoration-color: #0000ff\">https://app.prefect.cloud/account/12f914c1-6641-4886-b1fc-1a3d16bfdeed/workspace/4cc5a521-4d87-4d10-b1f2-383e1c72fb5c/flow-runs/flow-run/e04335b5-198b-4401-901c-46778970cab7</span>\n",
       "</pre>\n"
      ],
      "text/plain": [
       "01:49:04.174 | \u001b[36mINFO\u001b[0m    | Flow run\u001b[35m 'hypersonic-chinchilla'\u001b[0m - View at \u001b[94mhttps://app.prefect.cloud/account/12f914c1-6641-4886-b1fc-1a3d16bfdeed/workspace/4cc5a521-4d87-4d10-b1f2-383e1c72fb5c/flow-runs/flow-run/e04335b5-198b-4401-901c-46778970cab7\u001b[0m\n"
      ]
     },
     "metadata": {},
     "output_type": "display_data"
    },
    {
     "data": {
      "text/html": [
       "<pre style=\"white-space:pre;overflow-x:auto;line-height:normal;font-family:Menlo,'DejaVu Sans Mono',consolas,'Courier New',monospace\">01:49:04.872 | <span style=\"color: #008080; text-decoration-color: #008080\">INFO</span>    | Flow run<span style=\"color: #800080; text-decoration-color: #800080\"> 'hypersonic-chinchilla'</span> - Created subflow run<span style=\"color: #800080; text-decoration-color: #800080\"> 'monumental-galago'</span> for flow<span style=\"color: #800080; text-decoration-color: #800080; font-weight: bold\"> 'subflow'</span>\n",
       "</pre>\n"
      ],
      "text/plain": [
       "01:49:04.872 | \u001b[36mINFO\u001b[0m    | Flow run\u001b[35m 'hypersonic-chinchilla'\u001b[0m - Created subflow run\u001b[35m 'monumental-galago'\u001b[0m for flow\u001b[1;35m 'subflow'\u001b[0m\n"
      ]
     },
     "metadata": {},
     "output_type": "display_data"
    },
    {
     "data": {
      "text/html": [
       "<pre style=\"white-space:pre;overflow-x:auto;line-height:normal;font-family:Menlo,'DejaVu Sans Mono',consolas,'Courier New',monospace\">01:49:04.874 | <span style=\"color: #008080; text-decoration-color: #008080\">INFO</span>    | Flow run<span style=\"color: #800080; text-decoration-color: #800080\"> 'monumental-galago'</span> - View at <span style=\"color: #0000ff; text-decoration-color: #0000ff\">https://app.prefect.cloud/account/12f914c1-6641-4886-b1fc-1a3d16bfdeed/workspace/4cc5a521-4d87-4d10-b1f2-383e1c72fb5c/flow-runs/flow-run/dbe954a9-ed59-4cb5-9dd5-9a027995c217</span>\n",
       "</pre>\n"
      ],
      "text/plain": [
       "01:49:04.874 | \u001b[36mINFO\u001b[0m    | Flow run\u001b[35m 'monumental-galago'\u001b[0m - View at \u001b[94mhttps://app.prefect.cloud/account/12f914c1-6641-4886-b1fc-1a3d16bfdeed/workspace/4cc5a521-4d87-4d10-b1f2-383e1c72fb5c/flow-runs/flow-run/dbe954a9-ed59-4cb5-9dd5-9a027995c217\u001b[0m\n"
      ]
     },
     "metadata": {},
     "output_type": "display_data"
    },
    {
     "data": {
      "text/html": [
       "<pre style=\"white-space:pre;overflow-x:auto;line-height:normal;font-family:Menlo,'DejaVu Sans Mono',consolas,'Courier New',monospace\">01:49:05.679 | <span style=\"color: #008080; text-decoration-color: #008080\">INFO</span>    | Flow run<span style=\"color: #800080; text-decoration-color: #800080\"> 'monumental-galago'</span> - Finished in state <span style=\"color: #008000; text-decoration-color: #008000\">Completed</span>()\n",
       "</pre>\n"
      ],
      "text/plain": [
       "01:49:05.679 | \u001b[36mINFO\u001b[0m    | Flow run\u001b[35m 'monumental-galago'\u001b[0m - Finished in state \u001b[32mCompleted\u001b[0m()\n"
      ]
     },
     "metadata": {},
     "output_type": "display_data"
    },
    {
     "data": {
      "text/html": [
       "<pre style=\"white-space:pre;overflow-x:auto;line-height:normal;font-family:Menlo,'DejaVu Sans Mono',consolas,'Courier New',monospace\">01:49:05.845 | <span style=\"color: #008080; text-decoration-color: #008080\">INFO</span>    | Flow run<span style=\"color: #800080; text-decoration-color: #800080\"> 'hypersonic-chinchilla'</span> - Finished in state <span style=\"color: #008000; text-decoration-color: #008000\">Completed</span>('All states completed.')\n",
       "</pre>\n"
      ],
      "text/plain": [
       "01:49:05.845 | \u001b[36mINFO\u001b[0m    | Flow run\u001b[35m 'hypersonic-chinchilla'\u001b[0m - Finished in state \u001b[32mCompleted\u001b[0m('All states completed.')\n"
      ]
     },
     "metadata": {},
     "output_type": "display_data"
    },
    {
     "data": {
      "text/plain": [
       "[Completed(message=None, type=COMPLETED, result=UnpersistedResult(type='unpersisted', artifact_type='result', artifact_description='Unpersisted result of type `int`'))]"
      ]
     },
     "execution_count": 33,
     "metadata": {},
     "output_type": "execute_result"
    }
   ],
   "source": [
    "@flow \n",
    "def subflow():\n",
    "    return 42 \n",
    "\n",
    "@flow \n",
    "def my_flow():\n",
    "    result = subflow() # return data\n",
    "    \n",
    "my_flow()"
   ]
  },
  {
   "cell_type": "markdown",
   "metadata": {},
   "source": [
    "Return Prefect State\n",
    "\n",
    "To return a State instead, add return_state=True as a parameter of your task call."
   ]
  },
  {
   "cell_type": "code",
   "execution_count": 52,
   "metadata": {},
   "outputs": [
    {
     "name": "stderr",
     "output_type": "stream",
     "text": [
      "c:\\Users\\Mich2020\\Anaconda3\\envs\\ETLSpoty\\Lib\\site-packages\\prefect\\tasks.py:339: UserWarning: A task named 'add_one' and defined at 'C:\\Users\\Mich2020\\AppData\\Local\\Temp\\ipykernel_43284\\4076977577.py:1' conflicts with another task. Consider specifying a unique `name` parameter in the task definition:\n",
      "\n",
      " `@task(name='my_unique_name', ...)`\n",
      "  warnings.warn(\n",
      "c:\\Users\\Mich2020\\Anaconda3\\envs\\ETLSpoty\\Lib\\site-packages\\prefect\\flows.py:343: UserWarning: A flow named 'my-flow' and defined at 'C:\\Users\\Mich2020\\AppData\\Local\\Temp\\ipykernel_43284\\4076977577.py:6' conflicts with another flow. Consider specifying a unique `name` parameter in the flow definition:\n",
      "\n",
      " `@flow(name='my_unique_name', ...)`\n",
      "  warnings.warn(\n"
     ]
    },
    {
     "data": {
      "text/html": [
       "<pre style=\"white-space:pre;overflow-x:auto;line-height:normal;font-family:Menlo,'DejaVu Sans Mono',consolas,'Courier New',monospace\">02:49:39.846 | <span style=\"color: #008080; text-decoration-color: #008080\">INFO</span>    | prefect.engine - Created flow run<span style=\"color: #800080; text-decoration-color: #800080\"> 'fractal-gibbon'</span> for flow<span style=\"color: #800080; text-decoration-color: #800080; font-weight: bold\"> 'my-flow'</span>\n",
       "</pre>\n"
      ],
      "text/plain": [
       "02:49:39.846 | \u001b[36mINFO\u001b[0m    | prefect.engine - Created flow run\u001b[35m 'fractal-gibbon'\u001b[0m for flow\u001b[1;35m 'my-flow'\u001b[0m\n"
      ]
     },
     "metadata": {},
     "output_type": "display_data"
    },
    {
     "data": {
      "text/html": [
       "<pre style=\"white-space:pre;overflow-x:auto;line-height:normal;font-family:Menlo,'DejaVu Sans Mono',consolas,'Courier New',monospace\">02:49:39.849 | <span style=\"color: #008080; text-decoration-color: #008080\">INFO</span>    | Flow run<span style=\"color: #800080; text-decoration-color: #800080\"> 'fractal-gibbon'</span> - View at <span style=\"color: #0000ff; text-decoration-color: #0000ff\">https://app.prefect.cloud/account/12f914c1-6641-4886-b1fc-1a3d16bfdeed/workspace/4cc5a521-4d87-4d10-b1f2-383e1c72fb5c/flow-runs/flow-run/f4fe7413-24c4-410d-8bad-cdab8fdae78d</span>\n",
       "</pre>\n"
      ],
      "text/plain": [
       "02:49:39.849 | \u001b[36mINFO\u001b[0m    | Flow run\u001b[35m 'fractal-gibbon'\u001b[0m - View at \u001b[94mhttps://app.prefect.cloud/account/12f914c1-6641-4886-b1fc-1a3d16bfdeed/workspace/4cc5a521-4d87-4d10-b1f2-383e1c72fb5c/flow-runs/flow-run/f4fe7413-24c4-410d-8bad-cdab8fdae78d\u001b[0m\n"
      ]
     },
     "metadata": {},
     "output_type": "display_data"
    },
    {
     "data": {
      "text/html": [
       "<pre style=\"white-space:pre;overflow-x:auto;line-height:normal;font-family:Menlo,'DejaVu Sans Mono',consolas,'Courier New',monospace\">02:49:40.063 | <span style=\"color: #008080; text-decoration-color: #008080\">INFO</span>    | Flow run<span style=\"color: #800080; text-decoration-color: #800080\"> 'fractal-gibbon'</span> - Iniciando  my_flow\n",
       "</pre>\n"
      ],
      "text/plain": [
       "02:49:40.063 | \u001b[36mINFO\u001b[0m    | Flow run\u001b[35m 'fractal-gibbon'\u001b[0m - Iniciando  my_flow\n"
      ]
     },
     "metadata": {},
     "output_type": "display_data"
    },
    {
     "data": {
      "text/html": [
       "<pre style=\"white-space:pre;overflow-x:auto;line-height:normal;font-family:Menlo,'DejaVu Sans Mono',consolas,'Courier New',monospace\">02:49:40.522 | <span style=\"color: #008080; text-decoration-color: #008080\">INFO</span>    | Flow run<span style=\"color: #800080; text-decoration-color: #800080\"> 'fractal-gibbon'</span> - Created task run 'add_one-0' for task 'add_one'\n",
       "</pre>\n"
      ],
      "text/plain": [
       "02:49:40.522 | \u001b[36mINFO\u001b[0m    | Flow run\u001b[35m 'fractal-gibbon'\u001b[0m - Created task run 'add_one-0' for task 'add_one'\n"
      ]
     },
     "metadata": {},
     "output_type": "display_data"
    },
    {
     "data": {
      "text/html": [
       "<pre style=\"white-space:pre;overflow-x:auto;line-height:normal;font-family:Menlo,'DejaVu Sans Mono',consolas,'Courier New',monospace\">02:49:40.524 | <span style=\"color: #008080; text-decoration-color: #008080\">INFO</span>    | Flow run<span style=\"color: #800080; text-decoration-color: #800080\"> 'fractal-gibbon'</span> - Executing 'add_one-0' immediately...\n",
       "</pre>\n"
      ],
      "text/plain": [
       "02:49:40.524 | \u001b[36mINFO\u001b[0m    | Flow run\u001b[35m 'fractal-gibbon'\u001b[0m - Executing 'add_one-0' immediately...\n"
      ]
     },
     "metadata": {},
     "output_type": "display_data"
    },
    {
     "data": {
      "text/html": [
       "<pre style=\"white-space:pre;overflow-x:auto;line-height:normal;font-family:Menlo,'DejaVu Sans Mono',consolas,'Courier New',monospace\">02:49:41.459 | <span style=\"color: #008080; text-decoration-color: #008080\">INFO</span>    | Task run 'add_one-0' - Suma de x + 1: 2\n",
       "</pre>\n"
      ],
      "text/plain": [
       "02:49:41.459 | \u001b[36mINFO\u001b[0m    | Task run 'add_one-0' - Suma de x + 1: 2\n"
      ]
     },
     "metadata": {},
     "output_type": "display_data"
    },
    {
     "data": {
      "text/html": [
       "<pre style=\"white-space:pre;overflow-x:auto;line-height:normal;font-family:Menlo,'DejaVu Sans Mono',consolas,'Courier New',monospace\">02:49:42.240 | <span style=\"color: #008080; text-decoration-color: #008080\">INFO</span>    | Task run 'add_one-0' - Finished in state <span style=\"color: #008000; text-decoration-color: #008000\">Completed</span>()\n",
       "</pre>\n"
      ],
      "text/plain": [
       "02:49:42.240 | \u001b[36mINFO\u001b[0m    | Task run 'add_one-0' - Finished in state \u001b[32mCompleted\u001b[0m()\n"
      ]
     },
     "metadata": {},
     "output_type": "display_data"
    },
    {
     "data": {
      "text/html": [
       "<pre style=\"white-space:pre;overflow-x:auto;line-height:normal;font-family:Menlo,'DejaVu Sans Mono',consolas,'Courier New',monospace\">02:49:42.245 | <span style=\"color: #008080; text-decoration-color: #008080\">INFO</span>    | Flow run<span style=\"color: #800080; text-decoration-color: #800080\"> 'fractal-gibbon'</span> - El estado es <span style=\"color: #008000; text-decoration-color: #008000\">Completed</span>()\n",
       "</pre>\n"
      ],
      "text/plain": [
       "02:49:42.245 | \u001b[36mINFO\u001b[0m    | Flow run\u001b[35m 'fractal-gibbon'\u001b[0m - El estado es \u001b[32mCompleted\u001b[0m()\n"
      ]
     },
     "metadata": {},
     "output_type": "display_data"
    },
    {
     "data": {
      "text/html": [
       "<pre style=\"white-space:pre;overflow-x:auto;line-height:normal;font-family:Menlo,'DejaVu Sans Mono',consolas,'Courier New',monospace\">02:49:42.247 | <span style=\"color: #008080; text-decoration-color: #008080\">INFO</span>    | Flow run<span style=\"color: #800080; text-decoration-color: #800080\"> 'fractal-gibbon'</span> - --------------------------------------------------\n",
       "</pre>\n"
      ],
      "text/plain": [
       "02:49:42.247 | \u001b[36mINFO\u001b[0m    | Flow run\u001b[35m 'fractal-gibbon'\u001b[0m - --------------------------------------------------\n"
      ]
     },
     "metadata": {},
     "output_type": "display_data"
    },
    {
     "data": {
      "text/html": [
       "<pre style=\"white-space:pre;overflow-x:auto;line-height:normal;font-family:Menlo,'DejaVu Sans Mono',consolas,'Courier New',monospace\">02:49:42.248 | <span style=\"color: #008080; text-decoration-color: #008080\">INFO</span>    | Flow run<span style=\"color: #800080; text-decoration-color: #800080\"> 'fractal-gibbon'</span> - Resultado de add_one: type='reference' artifact_type='result' artifact_description='Result of type `int` persisted to: `C:\\\\Users\\\\Mich2020\\\\.prefect\\\\storage\\\\5059a420912b4c708d4f1776355e1b6d`' serializer_type='pickle' storage_block_id=UUID('f3033bb1-cd5d-4e96-9a9f-6ce2c44180fb') storage_key='5059a420912b4c708d4f1776355e1b6d'\n",
       "</pre>\n"
      ],
      "text/plain": [
       "02:49:42.248 | \u001b[36mINFO\u001b[0m    | Flow run\u001b[35m 'fractal-gibbon'\u001b[0m - Resultado de add_one: type='reference' artifact_type='result' artifact_description='Result of type `int` persisted to: `C:\\\\Users\\\\Mich2020\\\\.prefect\\\\storage\\\\5059a420912b4c708d4f1776355e1b6d`' serializer_type='pickle' storage_block_id=UUID('f3033bb1-cd5d-4e96-9a9f-6ce2c44180fb') storage_key='5059a420912b4c708d4f1776355e1b6d'\n"
      ]
     },
     "metadata": {},
     "output_type": "display_data"
    },
    {
     "data": {
      "text/html": [
       "<pre style=\"white-space:pre;overflow-x:auto;line-height:normal;font-family:Menlo,'DejaVu Sans Mono',consolas,'Courier New',monospace\">02:49:42.250 | <span style=\"color: #008080; text-decoration-color: #008080\">INFO</span>    | Flow run<span style=\"color: #800080; text-decoration-color: #800080\"> 'fractal-gibbon'</span> - fin de my_flow\n",
       "</pre>\n"
      ],
      "text/plain": [
       "02:49:42.250 | \u001b[36mINFO\u001b[0m    | Flow run\u001b[35m 'fractal-gibbon'\u001b[0m - fin de my_flow\n"
      ]
     },
     "metadata": {},
     "output_type": "display_data"
    },
    {
     "data": {
      "text/html": [
       "<pre style=\"white-space:pre;overflow-x:auto;line-height:normal;font-family:Menlo,'DejaVu Sans Mono',consolas,'Courier New',monospace\">02:49:43.085 | <span style=\"color: #008080; text-decoration-color: #008080\">INFO</span>    | Flow run<span style=\"color: #800080; text-decoration-color: #800080\"> 'fractal-gibbon'</span> - Finished in state <span style=\"color: #008000; text-decoration-color: #008000\">Completed</span>('All states completed.')\n",
       "</pre>\n"
      ],
      "text/plain": [
       "02:49:43.085 | \u001b[36mINFO\u001b[0m    | Flow run\u001b[35m 'fractal-gibbon'\u001b[0m - Finished in state \u001b[32mCompleted\u001b[0m('All states completed.')\n"
      ]
     },
     "metadata": {},
     "output_type": "display_data"
    },
    {
     "data": {
      "text/plain": [
       "[Completed(message=None, type=COMPLETED, result=PersistedResult(type='reference', artifact_type='result', artifact_description='Result of type `int` persisted to: `C:\\\\Users\\\\Mich2020\\\\.prefect\\\\storage\\\\5059a420912b4c708d4f1776355e1b6d`', serializer_type='pickle', storage_block_id=UUID('f3033bb1-cd5d-4e96-9a9f-6ce2c44180fb'), storage_key='5059a420912b4c708d4f1776355e1b6d'))]"
      ]
     },
     "execution_count": 52,
     "metadata": {},
     "output_type": "execute_result"
    }
   ],
   "source": [
    "@task \n",
    "def add_one(x):\n",
    "    print(f\"Suma de x + 1: {x + 1}\")\n",
    "    return x + 1\n",
    "\n",
    "@flow(log_prints=True) \n",
    "def my_flow():\n",
    "    print(\"Iniciando  my_flow\")\n",
    "    \n",
    "    state = add_one(1,return_state=True) \n",
    "    result = state.result() # return int\n",
    "    \n",
    "    print(F\"El estado es {state}\")\n",
    "    print(\"-\"*50)\n",
    "    print(f\"Resultado de add_one: {result}\")\n",
    "    print(\"fin de my_flow\")\n",
    "    \n",
    "my_flow()"
   ]
  },
  {
   "cell_type": "markdown",
   "metadata": {},
   "source": [
    "Return a PrefectFuture\n",
    "\n",
    "To get a PrefectFuture, add .submit() to your task call."
   ]
  },
  {
   "cell_type": "code",
   "execution_count": 51,
   "metadata": {},
   "outputs": [
    {
     "name": "stderr",
     "output_type": "stream",
     "text": [
      "c:\\Users\\Mich2020\\Anaconda3\\envs\\ETLSpoty\\Lib\\site-packages\\prefect\\tasks.py:339: UserWarning: A task named 'add_one' and defined at 'C:\\Users\\Mich2020\\AppData\\Local\\Temp\\ipykernel_43284\\3805070160.py:1' conflicts with another task. Consider specifying a unique `name` parameter in the task definition:\n",
      "\n",
      " `@task(name='my_unique_name', ...)`\n",
      "  warnings.warn(\n",
      "c:\\Users\\Mich2020\\Anaconda3\\envs\\ETLSpoty\\Lib\\site-packages\\prefect\\flows.py:343: UserWarning: A flow named 'my-flow' and defined at 'C:\\Users\\Mich2020\\AppData\\Local\\Temp\\ipykernel_43284\\3805070160.py:6' conflicts with another flow. Consider specifying a unique `name` parameter in the flow definition:\n",
      "\n",
      " `@flow(name='my_unique_name', ...)`\n",
      "  warnings.warn(\n"
     ]
    },
    {
     "data": {
      "text/html": [
       "<pre style=\"white-space:pre;overflow-x:auto;line-height:normal;font-family:Menlo,'DejaVu Sans Mono',consolas,'Courier New',monospace\">02:45:05.297 | <span style=\"color: #008080; text-decoration-color: #008080\">INFO</span>    | prefect.engine - Created flow run<span style=\"color: #800080; text-decoration-color: #800080\"> 'ethereal-tiger'</span> for flow<span style=\"color: #800080; text-decoration-color: #800080; font-weight: bold\"> 'my-flow'</span>\n",
       "</pre>\n"
      ],
      "text/plain": [
       "02:45:05.297 | \u001b[36mINFO\u001b[0m    | prefect.engine - Created flow run\u001b[35m 'ethereal-tiger'\u001b[0m for flow\u001b[1;35m 'my-flow'\u001b[0m\n"
      ]
     },
     "metadata": {},
     "output_type": "display_data"
    },
    {
     "data": {
      "text/html": [
       "<pre style=\"white-space:pre;overflow-x:auto;line-height:normal;font-family:Menlo,'DejaVu Sans Mono',consolas,'Courier New',monospace\">02:45:05.300 | <span style=\"color: #008080; text-decoration-color: #008080\">INFO</span>    | Flow run<span style=\"color: #800080; text-decoration-color: #800080\"> 'ethereal-tiger'</span> - View at <span style=\"color: #0000ff; text-decoration-color: #0000ff\">https://app.prefect.cloud/account/12f914c1-6641-4886-b1fc-1a3d16bfdeed/workspace/4cc5a521-4d87-4d10-b1f2-383e1c72fb5c/flow-runs/flow-run/8a266b28-65dd-465f-9779-24033ecb3af8</span>\n",
       "</pre>\n"
      ],
      "text/plain": [
       "02:45:05.300 | \u001b[36mINFO\u001b[0m    | Flow run\u001b[35m 'ethereal-tiger'\u001b[0m - View at \u001b[94mhttps://app.prefect.cloud/account/12f914c1-6641-4886-b1fc-1a3d16bfdeed/workspace/4cc5a521-4d87-4d10-b1f2-383e1c72fb5c/flow-runs/flow-run/8a266b28-65dd-465f-9779-24033ecb3af8\u001b[0m\n"
      ]
     },
     "metadata": {},
     "output_type": "display_data"
    },
    {
     "data": {
      "text/html": [
       "<pre style=\"white-space:pre;overflow-x:auto;line-height:normal;font-family:Menlo,'DejaVu Sans Mono',consolas,'Courier New',monospace\">02:45:06.052 | <span style=\"color: #008080; text-decoration-color: #008080\">INFO</span>    | Flow run<span style=\"color: #800080; text-decoration-color: #800080\"> 'ethereal-tiger'</span> - Iniciando  my_flow\n",
       "</pre>\n"
      ],
      "text/plain": [
       "02:45:06.052 | \u001b[36mINFO\u001b[0m    | Flow run\u001b[35m 'ethereal-tiger'\u001b[0m - Iniciando  my_flow\n"
      ]
     },
     "metadata": {},
     "output_type": "display_data"
    },
    {
     "data": {
      "text/html": [
       "<pre style=\"white-space:pre;overflow-x:auto;line-height:normal;font-family:Menlo,'DejaVu Sans Mono',consolas,'Courier New',monospace\">02:45:06.562 | <span style=\"color: #008080; text-decoration-color: #008080\">INFO</span>    | Flow run<span style=\"color: #800080; text-decoration-color: #800080\"> 'ethereal-tiger'</span> - Created task run 'add_one-0' for task 'add_one'\n",
       "</pre>\n"
      ],
      "text/plain": [
       "02:45:06.562 | \u001b[36mINFO\u001b[0m    | Flow run\u001b[35m 'ethereal-tiger'\u001b[0m - Created task run 'add_one-0' for task 'add_one'\n"
      ]
     },
     "metadata": {},
     "output_type": "display_data"
    },
    {
     "data": {
      "text/html": [
       "<pre style=\"white-space:pre;overflow-x:auto;line-height:normal;font-family:Menlo,'DejaVu Sans Mono',consolas,'Courier New',monospace\">02:45:06.564 | <span style=\"color: #008080; text-decoration-color: #008080\">INFO</span>    | Flow run<span style=\"color: #800080; text-decoration-color: #800080\"> 'ethereal-tiger'</span> - Submitted task run 'add_one-0' for execution.\n",
       "</pre>\n"
      ],
      "text/plain": [
       "02:45:06.564 | \u001b[36mINFO\u001b[0m    | Flow run\u001b[35m 'ethereal-tiger'\u001b[0m - Submitted task run 'add_one-0' for execution.\n"
      ]
     },
     "metadata": {},
     "output_type": "display_data"
    },
    {
     "data": {
      "text/html": [
       "<pre style=\"white-space:pre;overflow-x:auto;line-height:normal;font-family:Menlo,'DejaVu Sans Mono',consolas,'Courier New',monospace\">02:45:07.880 | <span style=\"color: #008080; text-decoration-color: #008080\">INFO</span>    | Task run 'add_one-0' - Suma de x + 1: 2\n",
       "</pre>\n"
      ],
      "text/plain": [
       "02:45:07.880 | \u001b[36mINFO\u001b[0m    | Task run 'add_one-0' - Suma de x + 1: 2\n"
      ]
     },
     "metadata": {},
     "output_type": "display_data"
    },
    {
     "data": {
      "text/html": [
       "<pre style=\"white-space:pre;overflow-x:auto;line-height:normal;font-family:Menlo,'DejaVu Sans Mono',consolas,'Courier New',monospace\">02:45:08.080 | <span style=\"color: #008080; text-decoration-color: #008080\">INFO</span>    | Task run 'add_one-0' - Finished in state <span style=\"color: #008000; text-decoration-color: #008000\">Completed</span>()\n",
       "</pre>\n"
      ],
      "text/plain": [
       "02:45:08.080 | \u001b[36mINFO\u001b[0m    | Task run 'add_one-0' - Finished in state \u001b[32mCompleted\u001b[0m()\n"
      ]
     },
     "metadata": {},
     "output_type": "display_data"
    },
    {
     "data": {
      "text/html": [
       "<pre style=\"white-space:pre;overflow-x:auto;line-height:normal;font-family:Menlo,'DejaVu Sans Mono',consolas,'Courier New',monospace\">02:45:08.427 | <span style=\"color: #008080; text-decoration-color: #008080\">INFO</span>    | Flow run<span style=\"color: #800080; text-decoration-color: #800080\"> 'ethereal-tiger'</span> - El estado es PrefectFuture('add_one-0')\n",
       "</pre>\n"
      ],
      "text/plain": [
       "02:45:08.427 | \u001b[36mINFO\u001b[0m    | Flow run\u001b[35m 'ethereal-tiger'\u001b[0m - El estado es PrefectFuture('add_one-0')\n"
      ]
     },
     "metadata": {},
     "output_type": "display_data"
    },
    {
     "data": {
      "text/html": [
       "<pre style=\"white-space:pre;overflow-x:auto;line-height:normal;font-family:Menlo,'DejaVu Sans Mono',consolas,'Courier New',monospace\">02:45:08.430 | <span style=\"color: #008080; text-decoration-color: #008080\">INFO</span>    | Flow run<span style=\"color: #800080; text-decoration-color: #800080\"> 'ethereal-tiger'</span> - --------------------------------------------------\n",
       "</pre>\n"
      ],
      "text/plain": [
       "02:45:08.430 | \u001b[36mINFO\u001b[0m    | Flow run\u001b[35m 'ethereal-tiger'\u001b[0m - --------------------------------------------------\n"
      ]
     },
     "metadata": {},
     "output_type": "display_data"
    },
    {
     "data": {
      "text/html": [
       "<pre style=\"white-space:pre;overflow-x:auto;line-height:normal;font-family:Menlo,'DejaVu Sans Mono',consolas,'Courier New',monospace\">02:45:08.432 | <span style=\"color: #008080; text-decoration-color: #008080\">INFO</span>    | Flow run<span style=\"color: #800080; text-decoration-color: #800080\"> 'ethereal-tiger'</span> - Resultado de add_one: 2\n",
       "</pre>\n"
      ],
      "text/plain": [
       "02:45:08.432 | \u001b[36mINFO\u001b[0m    | Flow run\u001b[35m 'ethereal-tiger'\u001b[0m - Resultado de add_one: 2\n"
      ]
     },
     "metadata": {},
     "output_type": "display_data"
    },
    {
     "data": {
      "text/html": [
       "<pre style=\"white-space:pre;overflow-x:auto;line-height:normal;font-family:Menlo,'DejaVu Sans Mono',consolas,'Courier New',monospace\">02:45:08.434 | <span style=\"color: #008080; text-decoration-color: #008080\">INFO</span>    | Flow run<span style=\"color: #800080; text-decoration-color: #800080\"> 'ethereal-tiger'</span> - fin de my_flow\n",
       "</pre>\n"
      ],
      "text/plain": [
       "02:45:08.434 | \u001b[36mINFO\u001b[0m    | Flow run\u001b[35m 'ethereal-tiger'\u001b[0m - fin de my_flow\n"
      ]
     },
     "metadata": {},
     "output_type": "display_data"
    },
    {
     "data": {
      "text/html": [
       "<pre style=\"white-space:pre;overflow-x:auto;line-height:normal;font-family:Menlo,'DejaVu Sans Mono',consolas,'Courier New',monospace\">02:45:08.746 | <span style=\"color: #008080; text-decoration-color: #008080\">INFO</span>    | Flow run<span style=\"color: #800080; text-decoration-color: #800080\"> 'ethereal-tiger'</span> - Finished in state <span style=\"color: #008000; text-decoration-color: #008000\">Completed</span>('All states completed.')\n",
       "</pre>\n"
      ],
      "text/plain": [
       "02:45:08.746 | \u001b[36mINFO\u001b[0m    | Flow run\u001b[35m 'ethereal-tiger'\u001b[0m - Finished in state \u001b[32mCompleted\u001b[0m('All states completed.')\n"
      ]
     },
     "metadata": {},
     "output_type": "display_data"
    },
    {
     "data": {
      "text/plain": [
       "[Completed(message=None, type=COMPLETED, result=UnpersistedResult(type='unpersisted', artifact_type='result', artifact_description='Unpersisted result of type `int`'))]"
      ]
     },
     "execution_count": 51,
     "metadata": {},
     "output_type": "execute_result"
    }
   ],
   "source": [
    "@task \n",
    "def add_one(x):\n",
    "    print(f\"Suma de x + 1: {x + 1}\")\n",
    "    return x + 1\n",
    "\n",
    "@flow(log_prints=True) \n",
    "def my_flow():\n",
    "    print(\"Iniciando  my_flow\")\n",
    "    \n",
    "    future = add_one.submit(1) # return PrefectFuture\n",
    "    result = future.result() # return int\n",
    "    \n",
    "    print(F\"El estado es {future}\")\n",
    "    print(\"-\"*50)\n",
    "    print(f\"Resultado de add_one: {result}\")\n",
    "    print(\"fin de my_flow\")\n",
    "    \n",
    "my_flow()"
   ]
  },
  {
   "cell_type": "code",
   "execution_count": null,
   "metadata": {},
   "outputs": [],
   "source": []
  }
 ],
 "metadata": {
  "kernelspec": {
   "display_name": "ETLSpoty",
   "language": "python",
   "name": "python3"
  },
  "language_info": {
   "codemirror_mode": {
    "name": "ipython",
    "version": 3
   },
   "file_extension": ".py",
   "mimetype": "text/x-python",
   "name": "python",
   "nbconvert_exporter": "python",
   "pygments_lexer": "ipython3",
   "version": "3.12.2"
  }
 },
 "nbformat": 4,
 "nbformat_minor": 2
}
